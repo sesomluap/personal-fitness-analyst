





import pandas as pd
import requests
from pprint import pprint
from census import Census
from api import geoapify_key, weather_api_key, census_key






#Pull cencus data for poverty
#Years earlier than 2010 or later than 2021 did not pull. So using these 11 years.

#variables:
years = [2010, 2011, 2012, 2013, 2014, 2015, 2016, 2017, 2018, 2019, 2020, 2021]
poverty_data = []

#Loop through each year and pull in poverty data, later it will be filtered for the state
print("--------------------------")
print("This may take a while")
print("--------------------------")

for year in years:
    #census api definitions below from: https://api.census.gov/data/2009/acs/acs5/variables.html, 
    #https://api.census.gov/data/2017/acs/acs5/groups/B17001.html
    c = Census(census_key, year)
    state_county_data = c.acs5.get(
        ("B17001_001E",
         "B17001_002E",
         "B17001_017E",
         "B17001_018E",
         "B17001_019E",
         "B17001_020E",
         "B17001_021E",
         "B17001_022E",
         "B17001_023E",
         "B17001_024E",
         "B17001_025E",
         "B17001_026E",
         "B17001_027E",
         "B17001_028E",
         "B17001_029E",
         "B17001_030E",
         "B17001_003E",
         "B17001_004E",
         "B17001_005E",
         "B17001_006E",
         "B17001_007E",
         "B17001_008E",
         "B17001_009E",
         "B17001_010E",
         "B17001_011E",
         "B17001_012E",
         "B17001_013E",
         "B17001_014E",
         "B17001_015E",
         "B17001_016E",
         "B17001A_001E",
         "B17001A_002E",
         "B17001A_003E",
         "B17001A_004E",
         "B17001A_005E",
         "B17001A_006E",
         "B17001A_007E",
         "B17001A_008E",
         "B17001A_009E",
         "B17001A_010E",
         "B17001A_011E",
         "B17001A_012E",
         "B17001A_013E",
         "B17001A_014E",
         "B17001A_015E",
         "B17001A_016E",
         "B17001A_017E",
         "B17001A_018E",
         "B17001A_019E",
         "B17001A_020E",
         "B17001A_021E",
         "B17001A_022E",
         "B17001A_023E",
         "B17001A_024E",
         "B17001A_025E",
         "B17001A_026E",
         "B17001A_027E",
         "B17001A_028E",
         "B17001A_029E",
         "B17001A_030E",
         "B17001B_001E",
         "B17001B_002E",
         "B17001B_003E",
         "B17001B_004E",
         "B17001B_005E",
         "B17001B_006E",
         "B17001B_007E",
         "B17001B_008E",
         "B17001B_009E",
         "B17001B_010E",
         "B17001B_011E",
         "B17001B_012E",
         "B17001B_013E",
         "B17001B_014E",
         "B17001B_015E",
         "B17001B_016E",
         "B17001B_017E",
         "B17001B_018E",
         "B17001B_019E",
         "B17001B_020E",
         "B17001B_021E",
         "B17001B_022E",
         "B17001B_023E",
         "B17001B_024E",
         "B17001B_025E",
         "B17001B_026E",
         "B17001B_027E",
         "B17001B_028E",
         "B17001B_029E",
         "B17001B_030E",
         "B17001C_001E",
         "B17001C_002E",
         "B17001C_003E",
         "B17001C_004E",
         "B17001C_005E",
         "B17001C_006E",
         "B17001C_007E",
         "B17001C_008E",
         "B17001C_009E",
         "B17001C_010E",
         "B17001C_011E",
         "B17001C_012E",
         "B17001C_013E",
         "B17001C_014E",
         "B17001C_015E",
         "B17001C_016E",
         "B17001C_017E",
         "B17001C_018E",
         "B17001C_019E",
         "B17001C_020E",
         "B17001C_021E",
         "B17001C_022E",
         "B17001C_023E",
         "B17001C_024E",
         "B17001C_025E",
         "B17001C_026E",
         "B17001C_027E",
         "B17001C_028E",
         "B17001C_029E",
         "B17001C_030E",
         "B17001D_001E",
         "B17001D_002E",
         "B17001D_003E",
         "B17001D_004E",
         "B17001D_005E",
         "B17001D_006E",
         "B17001D_007E",
         "B17001D_008E",
         "B17001D_009E",
         "B17001D_010E",
         "B17001D_011E",
         "B17001D_012E",
         "B17001D_013E",
         "B17001D_014E",
         "B17001D_015E",
         "B17001D_016E",
         "B17001D_017E",
         "B17001D_018E",
         "B17001D_019E",
         "B17001D_020E",
         "B17001D_021E",
         "B17001D_022E",
         "B17001D_023E",
         "B17001D_024E",
         "B17001D_025E",
         "B17001D_026E",
         "B17001D_027E",
         "B17001D_028E",
         "B17001D_029E",
         "B17001D_030E",
         "B17001E_001E",
         "B17001E_002E",
         "B17001E_003E",
         "B17001E_004E",
         "B17001E_005E",
         "B17001E_006E",
         "B17001E_007E",
         "B17001E_008E",
         "B17001E_009E",
         "B17001E_010E",
         "B17001E_011E",
         "B17001E_012E",
         "B17001E_013E",
         "B17001E_014E",
         "B17001E_015E",
         "B17001E_016E",
         "B17001E_017E",
         "B17001E_018E",
         "B17001E_019E",
         "B17001E_020E",
         "B17001E_021E",
         "B17001E_022E",
         "B17001E_023E",
         "B17001E_024E",
         "B17001E_025E",
         "B17001E_026E",
         "B17001E_027E",
         "B17001E_028E",
         "B17001E_029E",
         "B17001E_030E",
         "B17001F_001E",
         "B17001F_002E",
         "B17001F_003E",
         "B17001F_004E",
         "B17001F_005E",
         "B17001F_006E",
         "B17001F_007E",
         "B17001F_008E",
         "B17001F_009E",
         "B17001F_010E",
         "B17001F_011E",
         "B17001F_012E",
         "B17001F_013E",
         "B17001F_014E",
         "B17001F_015E",
         "B17001F_016E",
         "B17001F_017E",
         "B17001F_018E",
         "B17001F_019E",
         "B17001F_020E",
         "B17001F_021E",
         "B17001F_022E",
         "B17001F_023E",
         "B17001F_024E",
         "B17001F_025E",
         "B17001F_026E",
         "B17001F_027E",
         "B17001F_028E",
         "B17001F_029E",
         "B17001F_030E",
         "B17001G_001E",
         "B17001G_002E",
         "B17001G_003E",
         "B17001G_004E",
         "B17001G_005E",
         "B17001G_006E",
         "B17001G_007E",
         "B17001G_008E",
         "B17001G_009E",
         "B17001G_010E",
         "B17001G_011E",
         "B17001G_012E",
         "B17001G_013E",
         "B17001G_014E",
         "B17001G_015E",
         "B17001G_016E",
         "B17001G_017E",
         "B17001G_018E",
         "B17001G_019E",
         "B17001G_020E",
         "B17001G_021E",
         "B17001G_022E",
         "B17001G_023E",
         "B17001G_024E",
         "B17001G_025E",
         "B17001G_026E",
         "B17001G_027E",
         "B17001G_028E",
         "B17001G_029E",
         "B17001G_030E",
         "B17001H_001E",
         "B17001H_002E",
         "B17001H_003E",
         "B17001H_004E",
         "B17001H_005E",
         "B17001H_006E",
         "B17001H_007E",
         "B17001H_008E",
         "B17001H_009E",
         "B17001H_010E",
         "B17001H_011E",
         "B17001H_012E",
         "B17001H_013E",
         "B17001H_014E",
         "B17001H_015E",
         "B17001H_016E",
         "B17001H_017E",
         "B17001H_018E",
         "B17001H_019E",
         "B17001H_020E",
         "B17001H_021E",
         "B17001H_022E",
         "B17001H_023E",
         "B17001H_024E",
         "B17001H_025E",
         "B17001H_026E",
         "B17001H_027E",
         "B17001H_028E",
         "B17001H_029E",
         "B17001H_030E",
         "B17001I_001E",
         "B17001I_002E",
         "B17001I_003E",
         "B17001I_004E",
         "B17001I_005E",
         "B17001I_006E",
         "B17001I_007E",
         "B17001I_008E",
         "B17001I_009E",
         "B17001I_010E",
         "B17001I_011E",
         "B17001I_012E",
         "B17001I_013E",
         "B17001I_014E",
         "B17001I_015E",
         "B17001I_016E",
         "B17001I_017E",
         "B17001I_018E",
         "B17001I_019E",
         "B17001I_020E",
         "B17001I_021E",
         "B17001I_022E",
         "B17001I_023E",
         "B17001I_024E",
         "B17001I_025E",
         "B17001I_026E",
         "B17001I_027E",
         "B17001I_028E", 
         "B17001I_029E",
         "B17001I_030E"),
        {'for': 'county:*'},
    )

    print(f"Fetching Data for {year}")

    # Convert to DataFrame
    df = pd.DataFrame(state_county_data)
    df['year'] = year
    poverty_data.append(df)
print("--------------------------")

# Concatenate the list of DataFrames into a single DataFrame
merged_df = pd.concat(poverty_data, ignore_index=True)

# Display the merged DataFrame
print('Merge DF:')
merged_df.head()








#First, save raw output:
# Output for further analysis

# Specify the file path where you want to save the CSV file
csv_file_path_raw = 'Resources/minnesota_poverty_data_raw.csv'

# Output the DataFrame to a CSV file
merged_df.to_csv(csv_file_path_raw, index=False)

# Display a message indicating success
print(f"DataFrame has been successfully saved to {csv_file_path_raw}")


#filter to show MN only in new DF
minnesota_data_raw = merged_df.loc[merged_df['state'] == '27']


#Rename columns and cleanup data
minnesota_data = minnesota_data_raw.rename(columns={
                      "B17001_001E" : "Sample Population",
                      "B17001_002E" : "Population Poverty",
                      "B17001_017E" : "Female Poverty",
                      "B17001_018E" : "Females < 5 Poverty",
                      "B17001_019E" : "Females 5 Poverty",
                      "B17001_020E" : "Females 6 to 11 Poverty",
                      "B17001_021E" : "Females 12 to 14 Poverty",
                      "B17001_022E" : "Females 15 Poverty",
                      "B17001_023E" : "Females 16 to 17 Poverty",
                      "B17001_024E" : "Females 18 to 24 Poverty",
                      "B17001_025E" : "Females 25 to 34 Poverty",
                      "B17001_026E" : "Females 35 to 44 Poverty",
                      "B17001_027E" : "Females 45 to 54 Poverty",
                      "B17001_028E" : "Females 55 to 64 Poverty",
                      "B17001_029E" : "Females 65 to 74 Poverty",
                      "B17001_030E" : "Females 75 > Poverty",
                      "B17001_003E" : "Male Poverty",
                      "B17001_004E" : "Males < 5 Poverty",
                      "B17001_005E" : "Males 5 Poverty",
                      "B17001_006E" : "Males 6 to 11 Poverty",
                      "B17001_007E" : "Males 12 to 14 Poverty",
                      "B17001_008E" : "Males 15 Poverty",
                      "B17001_009E" : "Males 16 to 17 Poverty",
                      "B17001_010E" : "Males 18 to 24 Poverty",
                      "B17001_011E" : "Males 25 to 34 Poverty",
                      "B17001_012E" : "Males 35 to 44 Poverty",
                      "B17001_013E" : "Males 45 to 54 Poverty",
                      "B17001_014E" : "Males 55 to 64 Poverty",
                      "B17001_015E" : "Males 65 to 74 Poverty",
                      "B17001_016E" : "Males 75 > Poverty",
                      "B17001A_001E" : "Sample Population (White Alone)",
                      "B17001A_002E" : "Population Poverty (White Alone)",
                      "B17001A_003E" : "Male Poverty (White Alone)",
                      "B17001A_004E" : "Males < 5 Poverty (White Alone)",
                      "B17001A_005E" : "Males 5 Poverty (White Alone)",
                      "B17001A_006E" : "Males 6 to 11 Poverty (White Alone)",
                      "B17001A_007E" : "Males 12 to 14 Poverty (White Alone)",
                      "B17001A_008E" : "Males 15 Poverty (White Alone)",
                      "B17001A_009E" : "Males 16 to 17 Poverty (White Alone)",
                      "B17001A_010E" : "Males 18 to 24 Poverty (White Alone)",
                      "B17001A_011E" : "Males 25 to 34 Poverty (White Alone)",
                      "B17001A_012E" : "Males 35 to 44 Poverty (White Alone)",
                      "B17001A_013E" : "Males 45 to 54 Poverty (White Alone)",
                      "B17001A_014E" : "Males 55 to 64 Poverty (White Alone)",
                      "B17001A_015E" : "Males 65 to 74 Poverty (White Alone)",
                      "B17001A_016E" : "Males 75 > Poverty (White Alone)",
                      "B17001A_017E" : "Female Poverty (White Alone)",
                      "B17001A_018E" : "Females < 5 Poverty (White Alone)",
                      "B17001A_019E" : "Females 5 Poverty (White Alone)",
                      "B17001A_020E" : "Females 6 to 11 Poverty (White Alone)",
                      "B17001A_021E" : "Females 12 to 14 Poverty (White Alone)",
                      "B17001A_022E" : "Females 15 Poverty (White Alone)",
                      "B17001A_023E" : "Females 16 to 17 Poverty (White Alone)",
                      "B17001A_024E" : "Females 18 to 24 Poverty (White Alone)",
                      "B17001A_025E" : "Females 25 to 34 Poverty (White Alone)",
                      "B17001A_026E" : "Females 35 to 44 Poverty (White Alone)",
                      "B17001A_027E" : "Females 45 to 54 Poverty (White Alone)",
                      "B17001A_028E" : "Females 55 to 64 Poverty (White Alone)",
                      "B17001A_029E" : "Females 65 to 74 Poverty (White Alone)",
                      "B17001A_030E" : "Females 75 > Poverty (White Alone)",
                      "B17001B_001E" : "Sample Population (Black or African American Alone)",
                      "B17001B_002E" : "Population Poverty (Black or African American Alone)",
                      "B17001B_003E" : "Male Poverty (Black or African American Alone)",
                      "B17001B_004E" : "Males < 5 Poverty (Black or African American Alone)",
                      "B17001B_005E" : "Males 5 Poverty (Black or African American Alone)",
                      "B17001B_006E" : "Males 6 to 11 Poverty (Black or African American Alone)",
                      "B17001B_007E" : "Males 12 to 14 Poverty (Black or African American Alone)",
                      "B17001B_008E" : "Males 15 Poverty (Black or African American Alone)",
                      "B17001B_009E" : "Males 16 to 17 Poverty (Black or African American Alone)",
                      "B17001B_010E" : "Males 18 to 24 Poverty (Black or African American Alone)",
                      "B17001B_011E" : "Males 25 to 34 Poverty (Black or African American Alone)",
                      "B17001B_012E" : "Males 35 to 44 Poverty (Black or African American Alone)",
                      "B17001B_013E" : "Males 45 to 54 Poverty (Black or African American Alone)",
                      "B17001B_014E" : "Males 55 to 64 Poverty (Black or African American Alone)",
                      "B17001B_015E" : "Males 65 to 74 Poverty (Black or African American Alone)",
                      "B17001B_016E" : "Males 75 > Poverty (Black or African American Alone)",
                      "B17001B_017E" : "Female Poverty (Black or African American Alone)",
                      "B17001B_018E" : "Females < 5 Poverty (Black or African American Alone)",
                      "B17001B_019E" : "Females 5 Poverty (Black or African American Alone)",
                      "B17001B_020E" : "Females 6 to 11 Poverty (Black or African American Alone)",
                      "B17001B_021E" : "Females 12 to 14 Poverty (Black or African American Alone)",
                      "B17001B_022E" : "Females 15 Poverty (Black or African American Alone)",
                      "B17001B_023E" : "Females 16 to 17 Poverty (Black or African American Alone)",
                      "B17001B_024E" : "Females 18 to 24 Poverty (Black or African American Alone)",
                      "B17001B_025E" : "Females 25 to 34 Poverty (Black or African American Alone)",
                      "B17001B_026E" : "Females 35 to 44 Poverty (Black or African American Alone)",
                      "B17001B_027E" : "Females 45 to 54 Poverty (Black or African American Alone)",
                      "B17001B_028E" : "Females 55 to 64 Poverty (Black or African American Alone)",
                      "B17001B_029E" : "Females 65 to 74 Poverty (Black or African American Alone)",
                      "B17001B_030E" : "Females 75 > Poverty (Black or African American Alone)",
                      "B17001C_001E" : "Sample Population (American Indian and Alaska Native Alone)",
                      "B17001C_002E" : "Population Poverty (American Indian and Alaska Native Alone)",
                      "B17001C_003E" : "Male Poverty (American Indian and Alaska Native Alone)",
                      "B17001C_004E" : "Males < 5 Poverty (American Indian and Alaska Native Alone)",
                      "B17001C_005E" : "Males 5 Poverty (American Indian and Alaska Native Alone)",
                      "B17001C_006E" : "Males 6 to 11 Poverty (American Indian and Alaska Native Alone)",
                      "B17001C_007E" : "Males 12 to 14 Poverty (American Indian and Alaska Native Alone)",
                      "B17001C_008E" : "Males 15 Poverty (American Indian and Alaska Native Alone)",
                      "B17001C_009E" : "Males 16 to 17 Poverty (American Indian and Alaska Native Alone)",
                      "B17001C_010E" : "Males 18 to 24 Poverty (American Indian and Alaska Native Alone)",
                      "B17001C_011E" : "Males 25 to 34 Poverty (American Indian and Alaska Native Alone)",
                      "B17001C_012E" : "Males 35 to 44 Poverty (American Indian and Alaska Native Alone)",
                      "B17001C_013E" : "Males 45 to 54 Poverty (American Indian and Alaska Native Alone)",
                      "B17001C_014E" : "Males 55 to 64 Poverty (American Indian and Alaska Native Alone)",
                      "B17001C_015E" : "Males 65 to 74 Poverty (American Indian and Alaska Native Alone)",
                      "B17001C_016E" : "Males 75 > Poverty (American Indian and Alaska Native Alone)",
                      "B17001C_017E" : "Female Poverty (American Indian and Alaska Native Alone)",
                      "B17001C_018E" : "Females < 5 Poverty (American Indian and Alaska Native Alone)",
                      "B17001C_019E" : "Females 5 Poverty (American Indian and Alaska Native Alone)",
                      "B17001C_020E" : "Females 6 to 11 Poverty (American Indian and Alaska Native Alone)",
                      "B17001C_021E" : "Females 12 to 14 Poverty (American Indian and Alaska Native Alone)",
                      "B17001C_022E" : "Females 15 Poverty (American Indian and Alaska Native Alone)",
                      "B17001C_023E" : "Females 16 to 17 Poverty (American Indian and Alaska Native Alone)",
                      "B17001C_024E" : "Females 18 to 24 Poverty (American Indian and Alaska Native Alone)",
                      "B17001C_025E" : "Females 25 to 34 Poverty (American Indian and Alaska Native Alone)",
                      "B17001C_026E" : "Females 35 to 44 Poverty (American Indian and Alaska Native Alone)",
                      "B17001C_027E" : "Females 45 to 54 Poverty (American Indian and Alaska Native Alone)",
                      "B17001C_028E" : "Females 55 to 64 Poverty (American Indian and Alaska Native Alone)",
                      "B17001C_029E" : "Females 65 to 74 Poverty (American Indian and Alaska Native Alone)",
                      "B17001C_030E" : "Females 75 > Poverty (American Indian and Alaska Native Alone)",
                      "B17001D_001E" : "Sample Population (Asian Alone)",
                      "B17001D_002E" : "Population Poverty (Asian Alone)",
                      "B17001D_003E" : "Male Poverty (Asian Alone)",
                      "B17001D_004E" : "Males < 5 Poverty (Asian Alone)",
                      "B17001D_005E" : "Males 5 Poverty (Asian Alone)",
                      "B17001D_006E" : "Males 6 to 11 Poverty (Asian Alone)",
                      "B17001D_007E" : "Males 12 to 14 Poverty (Asian Alone)",
                      "B17001D_008E" : "Males 15 Poverty (Asian Alone)",
                      "B17001D_009E" : "Males 16 to 17 Poverty (Asian Alone)",
                      "B17001D_010E" : "Males 18 to 24 Poverty (Asian Alone)",
                      "B17001D_011E" : "Males 25 to 34 Poverty (Asian Alone)",
                      "B17001D_012E" : "Males 35 to 44 Poverty (Asian Alone)",
                      "B17001D_013E" : "Males 45 to 54 Poverty (Asian Alone)",
                      "B17001D_014E" : "Males 55 to 64 Poverty (Asian Alone)",
                      "B17001D_015E" : "Males 65 to 74 Poverty (Asian Alone)",
                      "B17001D_016E" : "Males 75 > Poverty (Asian Alone)",
                      "B17001D_017E" : "Female Poverty (Asian Alone)",
                      "B17001D_018E" : "Females < 5 Poverty (Asian Alone)",
                      "B17001D_019E" : "Females 5 Poverty (Asian Alone)",
                      "B17001D_020E" : "Females 6 to 11 Poverty (Asian Alone)",
                      "B17001D_021E" : "Females 12 to 14 Poverty (Asian Alone)",
                      "B17001D_022E" : "Females 15 Poverty (Asian Alone)",
                      "B17001D_023E" : "Females 16 to 17 Poverty (Asian Alone)",
                      "B17001D_024E" : "Females 18 to 24 Poverty (Asian Alone)",
                      "B17001D_025E" : "Females 25 to 34 Poverty (Asian Alone)",
                      "B17001D_026E" : "Females 35 to 44 Poverty (Asian Alone)",
                      "B17001D_027E" : "Females 45 to 54 Poverty (Asian Alone)",
                      "B17001D_028E" : "Females 55 to 64 Poverty (Asian Alone)",
                      "B17001D_029E" : "Females 65 to 74 Poverty (Asian Alone)",
                      "B17001D_030E" : "Females 75 > Poverty (Asian Alone)",
                      "B17001E_001E" : "Sample Population (Native Hawaiian and Other Pacific Islander Alone)",
                      "B17001E_002E" : "Population Poverty (Native Hawaiian and Other Pacific Islander Alone)",
                      "B17001E_003E" : "Male Poverty (Native Hawaiian and Other Pacific Islander Alone)",
                      "B17001E_004E" : "Males < 5 Poverty (Native Hawaiian and Other Pacific Islander Alone)",
                      "B17001E_005E" : "Males 5 Poverty (Native Hawaiian and Other Pacific Islander Alone)",
                      "B17001E_006E" : "Males 6 to 11 Poverty (Native Hawaiian and Other Pacific Islander Alone)",
                      "B17001E_007E" : "Males 12 to 14 Poverty (Native Hawaiian and Other Pacific Islander Alone)",
                      "B17001E_008E" : "Males 15 Poverty (Native Hawaiian and Other Pacific Islander Alone)",
                      "B17001E_009E" : "Males 16 to 17 Poverty (Native Hawaiian and Other Pacific Islander Alone)",
                      "B17001E_010E" : "Males 18 to 24 Poverty (Native Hawaiian and Other Pacific Islander Alone)",
                      "B17001E_011E" : "Males 25 to 34 Poverty (Native Hawaiian and Other Pacific Islander Alone)",
                      "B17001E_012E" : "Males 35 to 44 Poverty (Native Hawaiian and Other Pacific Islander Alone)",
                      "B17001E_013E" : "Males 45 to 54 Poverty (Native Hawaiian and Other Pacific Islander Alone)",
                      "B17001E_014E" : "Males 55 to 64 Poverty (Native Hawaiian and Other Pacific Islander Alone)",
                      "B17001E_015E" : "Males 65 to 74 Poverty (Native Hawaiian and Other Pacific Islander Alone)",
                      "B17001E_016E" : "Males 75 > Poverty (Native Hawaiian and Other Pacific Islander Alone)",
                      "B17001E_017E" : "Female Poverty (Native Hawaiian and Other Pacific Islander Alone)",
                      "B17001E_018E" : "Females < 5 Poverty (Native Hawaiian and Other Pacific Islander Alone)",
                      "B17001E_019E" : "Females 5 Poverty (Native Hawaiian and Other Pacific Islander Alone)",
                      "B17001E_020E" : "Females 6 to 11 Poverty (Native Hawaiian and Other Pacific Islander Alone)",
                      "B17001E_021E" : "Females 12 to 14 Poverty (Native Hawaiian and Other Pacific Islander Alone)",
                      "B17001E_022E" : "Females 15 Poverty (Native Hawaiian and Other Pacific Islander Alone)",
                      "B17001E_023E" : "Females 16 to 17 Poverty (Native Hawaiian and Other Pacific Islander Alone)",
                      "B17001E_024E" : "Females 18 to 24 Poverty (Native Hawaiian and Other Pacific Islander Alone)",
                      "B17001E_025E" : "Females 25 to 34 Poverty (Native Hawaiian and Other Pacific Islander Alone)",
                      "B17001E_026E" : "Females 35 to 44 Poverty (Native Hawaiian and Other Pacific Islander Alone)",
                      "B17001E_027E" : "Females 45 to 54 Poverty (Native Hawaiian and Other Pacific Islander Alone)",
                      "B17001E_028E" : "Females 55 to 64 Poverty (Native Hawaiian and Other Pacific Islander Alone)",
                      "B17001E_029E" : "Females 65 to 74 Poverty (Native Hawaiian and Other Pacific Islander Alone)",
                      "B17001E_030E" : "Females 75 > Poverty (Native Hawaiian and Other Pacific Islander Alone)",
                      "B17001F_001E" : "Sample Population (Some Other Race Alone)",
                      "B17001F_002E" : "Population Poverty (Some Other Race Alone)",
                      "B17001F_003E" : "Male Poverty (Some Other Race Alone)",
                      "B17001F_004E" : "Males < 5 Poverty (Some Other Race Alone)",
                      "B17001F_005E" : "Males 5 Poverty (Some Other Race Alone)",
                      "B17001F_006E" : "Males 6 to 11 Poverty (Some Other Race Alone)",
                      "B17001F_007E" : "Males 12 to 14 Poverty (Some Other Race Alone)",
                      "B17001F_008E" : "Males 15 Poverty (Some Other Race Alone)",
                      "B17001F_009E" : "Males 16 to 17 Poverty (Some Other Race Alone)",
                      "B17001F_010E" : "Males 18 to 24 Poverty (Some Other Race Alone)",
                      "B17001F_011E" : "Males 25 to 34 Poverty (Some Other Race Alone)",
                      "B17001F_012E" : "Males 35 to 44 Poverty (Some Other Race Alone)",
                      "B17001F_013E" : "Males 45 to 54 Poverty (Some Other Race Alone)",
                      "B17001F_014E" : "Males 55 to 64 Poverty (Some Other Race Alone)",
                      "B17001F_015E" : "Males 65 to 74 Poverty (Some Other Race Alone)",
                      "B17001F_016E" : "Males 75 > Poverty (Some Other Race Alone)",
                      "B17001F_017E" : "Female Poverty (Some Other Race Alone)",
                      "B17001F_018E" : "Females < 5 Poverty (Some Other Race Alone)",
                      "B17001F_019E" : "Females 5 Poverty (Some Other Race Alone)",
                      "B17001F_020E" : "Females 6 to 11 Poverty (Some Other Race Alone)",
                      "B17001F_021E" : "Females 12 to 14 Poverty (Some Other Race Alone)",
                      "B17001F_022E" : "Females 15 Poverty (Some Other Race Alone)",
                      "B17001F_023E" : "Females 16 to 17 Poverty (Some Other Race Alone)",
                      "B17001F_024E" : "Females 18 to 24 Poverty (Some Other Race Alone)",
                      "B17001F_025E" : "Females 25 to 34 Poverty (Some Other Race Alone)",
                      "B17001F_026E" : "Females 35 to 44 Poverty (Some Other Race Alone)",
                      "B17001F_027E" : "Females 45 to 54 Poverty (Some Other Race Alone)",
                      "B17001F_028E" : "Females 55 to 64 Poverty (Some Other Race Alone)",
                      "B17001F_029E" : "Females 65 to 74 Poverty (Some Other Race Alone)",
                      "B17001F_030E" : "Females 75 > Poverty (Some Other Race Alone)",
                      "B17001G_001E" : "Sample Population (Two or More Races)",
                      "B17001G_002E" : "Population Poverty (Two or More Races)",
                      "B17001G_003E" : "Male Poverty (Two or More Races)",
                      "B17001G_004E" : "Males < 5 Poverty (Two or More Races)",
                      "B17001G_005E" : "Males 5 Poverty (Two or More Races)",
                      "B17001G_006E" : "Males 6 to 11 Poverty (Two or More Races)",
                      "B17001G_007E" : "Males 12 to 14 Poverty (Two or More Races)",
                      "B17001G_008E" : "Males 15 Poverty (Two or More Races)",
                      "B17001G_009E" : "Males 16 to 17 Poverty (Two or More Races)",
                      "B17001G_010E" : "Males 18 to 24 Poverty (Two or More Races)",
                      "B17001G_011E" : "Males 25 to 34 Poverty (Two or More Races)",
                      "B17001G_012E" : "Males 35 to 44 Poverty (Two or More Races)",
                      "B17001G_013E" : "Males 45 to 54 Poverty (Two or More Races)",
                      "B17001G_014E" : "Males 55 to 64 Poverty (Two or More Races)",
                      "B17001G_015E" : "Males 65 to 74 Poverty (Two or More Races)",
                      "B17001G_016E" : "Males 75 > Poverty (Two or More Races)",
                      "B17001G_017E" : "Female Poverty (Two or More Races)",
                      "B17001G_018E" : "Females < 5 Poverty (Two or More Races)",
                      "B17001G_019E" : "Females 5 Poverty (Two or More Races)",
                      "B17001G_020E" : "Females 6 to 11 Poverty (Two or More Races)",
                      "B17001G_021E" : "Females 12 to 14 Poverty (Two or More Races)",
                      "B17001G_022E" : "Females 15 Poverty (Two or More Races)",
                      "B17001G_023E" : "Females 16 to 17 Poverty (Two or More Races)",
                      "B17001G_024E" : "Females 18 to 24 Poverty (Two or More Races)",
                      "B17001G_025E" : "Females 25 to 34 Poverty (Two or More Races)",
                      "B17001G_026E" : "Females 35 to 44 Poverty (Two or More Races)",
                      "B17001G_027E" : "Females 45 to 54 Poverty (Two or More Races)",
                      "B17001G_028E" : "Females 55 to 64 Poverty (Two or More Races)",
                      "B17001G_029E" : "Females 65 to 74 Poverty (Two or More Races)",
                      "B17001G_030E" : "Females 75 > Poverty (Two or More Races)",
                      "B17001H_001E" : "Sample Population (White Alone, Not Hispanic or Latino)",
                      "B17001H_002E" : "Population Poverty (White Alone, Not Hispanic or Latino)",
                      "B17001H_003E" : "Male Poverty (White Alone, Not Hispanic or Latino)",
                      "B17001H_004E" : "Males < 5 Poverty (White Alone, Not Hispanic or Latino)",
                      "B17001H_005E" : "Males 5 Poverty (White Alone, Not Hispanic or Latino)",
                      "B17001H_006E" : "Males 6 to 11 Poverty (White Alone, Not Hispanic or Latino)",
                      "B17001H_007E" : "Males 12 to 14 Poverty (White Alone, Not Hispanic or Latino)",
                      "B17001H_008E" : "Males 15 Poverty (White Alone, Not Hispanic or Latino)",
                      "B17001H_009E" : "Males 16 to 17 Poverty (White Alone, Not Hispanic or Latino)",
                      "B17001H_010E" : "Males 18 to 24 Poverty (White Alone, Not Hispanic or Latino)",
                      "B17001H_011E" : "Males 25 to 34 Poverty (White Alone, Not Hispanic or Latino)",
                      "B17001H_012E" : "Males 35 to 44 Poverty (White Alone, Not Hispanic or Latino)",
                      "B17001H_013E" : "Males 45 to 54 Poverty (White Alone, Not Hispanic or Latino)",
                      "B17001H_014E" : "Males 55 to 64 Poverty (White Alone, Not Hispanic or Latino)",
                      "B17001H_015E" : "Males 65 to 74 Poverty (White Alone, Not Hispanic or Latino)",
                      "B17001H_016E" : "Males 75 > Poverty (White Alone, Not Hispanic or Latino)",
                      "B17001H_017E" : "Female Poverty (White Alone, Not Hispanic or Latino)",
                      "B17001H_018E" : "Females < 5 Poverty (White Alone, Not Hispanic or Latino)",
                      "B17001H_019E" : "Females 5 Poverty (White Alone, Not Hispanic or Latino)",
                      "B17001H_020E" : "Females 6 to 11 Poverty (White Alone, Not Hispanic or Latino)",
                      "B17001H_021E" : "Females 12 to 14 Poverty (White Alone, Not Hispanic or Latino)",
                      "B17001H_022E" : "Females 15 Poverty (White Alone, Not Hispanic or Latino)",
                      "B17001H_023E" : "Females 16 to 17 Poverty (White Alone, Not Hispanic or Latino)",
                      "B17001H_024E" : "Females 18 to 24 Poverty (White Alone, Not Hispanic or Latino)",
                      "B17001H_025E" : "Females 25 to 34 Poverty (White Alone, Not Hispanic or Latino)",
                      "B17001H_026E" : "Females 35 to 44 Poverty (White Alone, Not Hispanic or Latino)",
                      "B17001H_027E" : "Females 45 to 54 Poverty (White Alone, Not Hispanic or Latino)",
                      "B17001H_028E" : "Females 55 to 64 Poverty (White Alone, Not Hispanic or Latino)",
                      "B17001H_029E" : "Females 65 to 74 Poverty (White Alone, Not Hispanic or Latino)",
                      "B17001H_030E" : "Females 75 > Poverty (White Alone, Not Hispanic or Latino)",
                      "B17001I_001E" : "Sample Population (Hispanic or Latino)",
                      "B17001I_002E" : "Population Poverty (Hispanic or Latino)",
                      "B17001I_003E" : "Male Poverty (Hispanic or Latino)",
                      "B17001I_004E" : "Males < 5 Poverty (Hispanic or Latino)",
                      "B17001I_005E" : "Males 5 Poverty (Hispanic or Latino)",
                      "B17001I_006E" : "Males 6 to 11 Poverty (Hispanic or Latino)",
                      "B17001I_007E" : "Males 12 to 14 Poverty (Hispanic or Latino)",
                      "B17001I_008E" : "Males 15 Poverty (Hispanic or Latino)",
                      "B17001I_009E" : "Males 16 to 17 Poverty (Hispanic or Latino)",
                      "B17001I_010E" : "Males 18 to 24 Poverty (Hispanic or Latino)",
                      "B17001I_011E" : "Males 25 to 34 Poverty (Hispanic or Latino)",
                      "B17001I_012E" : "Males 35 to 44 Poverty (Hispanic or Latino)",
                      "B17001I_013E" : "Males 45 to 54 Poverty (Hispanic or Latino)",
                      "B17001I_014E" : "Males 55 to 64 Poverty (Hispanic or Latino)",
                      "B17001I_015E" : "Males 65 to 74 Poverty (Hispanic or Latino)",
                      "B17001I_016E" : "Males 75 > Poverty (Hispanic or Latino)",
                      "B17001I_017E" : "Female Poverty (Hispanic or Latino)",
                      "B17001I_018E" : "Females < 5 Poverty (Hispanic or Latino)",
                      "B17001I_019E" : "Females 5 Poverty (Hispanic or Latino)",
                      "B17001I_020E" : "Females 6 to 11 Poverty (Hispanic or Latino)",
                      "B17001I_021E" : "Females 12 to 14 Poverty (Hispanic or Latino)",
                      "B17001I_022E" : "Females 15 Poverty (Hispanic or Latino)",
                      "B17001I_023E" : "Females 16 to 17 Poverty (Hispanic or Latino)",
                      "B17001I_024E" : "Females 18 to 24 Poverty (Hispanic or Latino)",
                      "B17001I_025E" : "Females 25 to 34 Poverty (Hispanic or Latino)",
                      "B17001I_026E" : "Females 35 to 44 Poverty (Hispanic or Latino)",
                      "B17001I_027E" : "Females 45 to 54 Poverty (Hispanic or Latino)",
                      "B17001I_028E" : "Females 55 to 64 Poverty (Hispanic or Latino)",
                      "B17001I_029E" : "Females 65 to 74 Poverty (Hispanic or Latino)",
                      "B17001I_030E" : "Females 75 > Poverty (Hispanic or Latino)",
                      "state" : "State Code",
                      "county" : "County Code"
                      })

minnesota_data.head()


#Create a column for the state
minnesota_data.insert(32, 'state', 'MN')


#Creating new columns based on imported data
minnesota_data['Child Poverty'] = minnesota_data['Females < 5 Poverty'] + minnesota_data['Females 5 Poverty'] \
    + minnesota_data['Females 6 to 11 Poverty'] + minnesota_data['Females 12 to 14 Poverty'] \
    + minnesota_data['Females 15 Poverty'] + minnesota_data['Females 16 to 17 Poverty'] \
    + minnesota_data['Males < 5 Poverty'] + minnesota_data['Males 5 Poverty'] \
    + minnesota_data['Males 6 to 11 Poverty'] + minnesota_data['Males 12 to 14 Poverty'] \
    + minnesota_data['Males 15 Poverty'] + minnesota_data['Males 16 to 17 Poverty'] 

minnesota_data['Child Poverty (White Alone)'] = minnesota_data['Females < 5 Poverty (White Alone)'] + minnesota_data['Females 5 Poverty (White Alone)'] \
    + minnesota_data['Females 6 to 11 Poverty (White Alone)'] + minnesota_data['Females 12 to 14 Poverty (White Alone)'] \
    + minnesota_data['Females 15 Poverty (White Alone)'] + minnesota_data['Females 16 to 17 Poverty (White Alone)'] \
    + minnesota_data['Males < 5 Poverty (White Alone)'] + minnesota_data['Males 5 Poverty (White Alone)'] \
    + minnesota_data['Males 6 to 11 Poverty (White Alone)'] + minnesota_data['Males 12 to 14 Poverty (White Alone)'] \
    + minnesota_data['Males 15 Poverty (White Alone)'] + minnesota_data['Males 16 to 17 Poverty (White Alone)'] 

minnesota_data['Child Poverty (Black or African American Alone)'] = minnesota_data['Females < 5 Poverty (Black or African American Alone)'] + minnesota_data['Females 5 Poverty (Black or African American Alone)'] \
    + minnesota_data['Females 6 to 11 Poverty (Black or African American Alone)'] + minnesota_data['Females 12 to 14 Poverty (Black or African American Alone)'] \
    + minnesota_data['Females 15 Poverty (Black or African American Alone)'] + minnesota_data['Females 16 to 17 Poverty (Black or African American Alone)'] \
    + minnesota_data['Males < 5 Poverty (Black or African American Alone)'] + minnesota_data['Males 5 Poverty (Black or African American Alone)'] \
    + minnesota_data['Males 6 to 11 Poverty (Black or African American Alone)'] + minnesota_data['Males 12 to 14 Poverty (Black or African American Alone)'] \
    + minnesota_data['Males 15 Poverty (Black or African American Alone)'] + minnesota_data['Males 16 to 17 Poverty (Black or African American Alone)'] 

minnesota_data['Child Poverty (American Indian and Alaska Native Alone)'] = minnesota_data['Females < 5 Poverty (American Indian and Alaska Native Alone)'] + minnesota_data['Females 5 Poverty (American Indian and Alaska Native Alone)'] \
    + minnesota_data['Females 6 to 11 Poverty (American Indian and Alaska Native Alone)'] + minnesota_data['Females 12 to 14 Poverty (American Indian and Alaska Native Alone)'] \
    + minnesota_data['Females 15 Poverty (American Indian and Alaska Native Alone)'] + minnesota_data['Females 16 to 17 Poverty (American Indian and Alaska Native Alone)'] \
    + minnesota_data['Males < 5 Poverty (American Indian and Alaska Native Alone)'] + minnesota_data['Males 5 Poverty (American Indian and Alaska Native Alone)'] \
    + minnesota_data['Males 6 to 11 Poverty (American Indian and Alaska Native Alone)'] + minnesota_data['Males 12 to 14 Poverty (American Indian and Alaska Native Alone)'] \
    + minnesota_data['Males 15 Poverty (American Indian and Alaska Native Alone)'] + minnesota_data['Males 16 to 17 Poverty (American Indian and Alaska Native Alone)'] 

minnesota_data['Child Poverty (Asian Alone)'] = minnesota_data['Females < 5 Poverty (Asian Alone)'] + minnesota_data['Females 5 Poverty (Asian Alone)'] \
    + minnesota_data['Females 6 to 11 Poverty (Asian Alone)'] + minnesota_data['Females 12 to 14 Poverty (Asian Alone)'] \
    + minnesota_data['Females 15 Poverty (Asian Alone)'] + minnesota_data['Females 16 to 17 Poverty (Asian Alone)'] \
    + minnesota_data['Males < 5 Poverty (Asian Alone)'] + minnesota_data['Males 5 Poverty (Asian Alone)'] \
    + minnesota_data['Males 6 to 11 Poverty (Asian Alone)'] + minnesota_data['Males 12 to 14 Poverty (Asian Alone)'] \
    + minnesota_data['Males 15 Poverty (Asian Alone)'] + minnesota_data['Males 16 to 17 Poverty (Asian Alone)'] 

minnesota_data['Child Poverty (Native Hawaiian and Other Pacific Islander Alone)'] = minnesota_data['Females < 5 Poverty (Native Hawaiian and Other Pacific Islander Alone)'] + minnesota_data['Females 5 Poverty (Native Hawaiian and Other Pacific Islander Alone)'] \
    + minnesota_data['Females 6 to 11 Poverty (Native Hawaiian and Other Pacific Islander Alone)'] + minnesota_data['Females 12 to 14 Poverty (Native Hawaiian and Other Pacific Islander Alone)'] \
    + minnesota_data['Females 15 Poverty (Native Hawaiian and Other Pacific Islander Alone)'] + minnesota_data['Females 16 to 17 Poverty (Native Hawaiian and Other Pacific Islander Alone)'] \
    + minnesota_data['Males < 5 Poverty (Native Hawaiian and Other Pacific Islander Alone)'] + minnesota_data['Males 5 Poverty (Native Hawaiian and Other Pacific Islander Alone)'] \
    + minnesota_data['Males 6 to 11 Poverty (Native Hawaiian and Other Pacific Islander Alone)'] + minnesota_data['Males 12 to 14 Poverty (Native Hawaiian and Other Pacific Islander Alone)'] \
    + minnesota_data['Males 15 Poverty (Native Hawaiian and Other Pacific Islander Alone)'] + minnesota_data['Males 16 to 17 Poverty (Native Hawaiian and Other Pacific Islander Alone)'] 

minnesota_data['Child Poverty (Some Other Race Alone)'] = minnesota_data['Females < 5 Poverty (Some Other Race Alone)'] + minnesota_data['Females 5 Poverty (Some Other Race Alone)'] \
    + minnesota_data['Females 6 to 11 Poverty (Some Other Race Alone)'] + minnesota_data['Females 12 to 14 Poverty (Some Other Race Alone)'] \
    + minnesota_data['Females 15 Poverty (Some Other Race Alone)'] + minnesota_data['Females 16 to 17 Poverty (Some Other Race Alone)'] \
    + minnesota_data['Males < 5 Poverty (Some Other Race Alone)'] + minnesota_data['Males 5 Poverty (Some Other Race Alone)'] \
    + minnesota_data['Males 6 to 11 Poverty (Some Other Race Alone)'] + minnesota_data['Males 12 to 14 Poverty (Some Other Race Alone)'] \
    + minnesota_data['Males 15 Poverty (Some Other Race Alone)'] + minnesota_data['Males 16 to 17 Poverty (Some Other Race Alone)'] 

minnesota_data['Child Poverty (Two or More Races)'] = minnesota_data['Females < 5 Poverty (Two or More Races)'] + minnesota_data['Females 5 Poverty (Two or More Races)'] \
    + minnesota_data['Females 6 to 11 Poverty (Two or More Races)'] + minnesota_data['Females 12 to 14 Poverty (Two or More Races)'] \
    + minnesota_data['Females 15 Poverty (Two or More Races)'] + minnesota_data['Females 16 to 17 Poverty (Two or More Races)'] \
    + minnesota_data['Males < 5 Poverty (Two or More Races)'] + minnesota_data['Males 5 Poverty (Two or More Races)'] \
    + minnesota_data['Males 6 to 11 Poverty (Two or More Races)'] + minnesota_data['Males 12 to 14 Poverty (Two or More Races)'] \
    + minnesota_data['Males 15 Poverty (Two or More Races)'] + minnesota_data['Males 16 to 17 Poverty (Two or More Races)'] 

minnesota_data['Child Poverty (White Alone, Not Hispanic or Latino)'] = minnesota_data['Females < 5 Poverty (White Alone, Not Hispanic or Latino)'] + minnesota_data['Females 5 Poverty (White Alone, Not Hispanic or Latino)'] \
    + minnesota_data['Females 6 to 11 Poverty (White Alone, Not Hispanic or Latino)'] + minnesota_data['Females 12 to 14 Poverty (White Alone, Not Hispanic or Latino)'] \
    + minnesota_data['Females 15 Poverty (White Alone, Not Hispanic or Latino)'] + minnesota_data['Females 16 to 17 Poverty (White Alone, Not Hispanic or Latino)'] \
    + minnesota_data['Males < 5 Poverty (White Alone, Not Hispanic or Latino)'] + minnesota_data['Males 5 Poverty (White Alone, Not Hispanic or Latino)'] \
    + minnesota_data['Males 6 to 11 Poverty (White Alone, Not Hispanic or Latino)'] + minnesota_data['Males 12 to 14 Poverty (White Alone, Not Hispanic or Latino)'] \
    + minnesota_data['Males 15 Poverty (White Alone, Not Hispanic or Latino)'] + minnesota_data['Males 16 to 17 Poverty (White Alone, Not Hispanic or Latino)'] 

minnesota_data['Child Poverty (Hispanic or Latino)'] = minnesota_data['Females < 5 Poverty (Hispanic or Latino)'] + minnesota_data['Females 5 Poverty (Hispanic or Latino)'] \
    + minnesota_data['Females 6 to 11 Poverty (Hispanic or Latino)'] + minnesota_data['Females 12 to 14 Poverty (Hispanic or Latino)'] \
    + minnesota_data['Females 15 Poverty (Hispanic or Latino)'] + minnesota_data['Females 16 to 17 Poverty (Hispanic or Latino)'] \
    + minnesota_data['Males < 5 Poverty (Hispanic or Latino)'] + minnesota_data['Males 5 Poverty (Hispanic or Latino)'] \
    + minnesota_data['Males 6 to 11 Poverty (Hispanic or Latino)'] + minnesota_data['Males 12 to 14 Poverty (Hispanic or Latino)'] \
    + minnesota_data['Males 15 Poverty (Hispanic or Latino)'] + minnesota_data['Males 16 to 17 Poverty (Hispanic or Latino)']

minnesota_data['Female Child Poverty'] = minnesota_data['Females < 5 Poverty'] + minnesota_data['Females 5 Poverty'] \
    + minnesota_data['Females 6 to 11 Poverty'] + minnesota_data['Females 12 to 14 Poverty'] \
    + minnesota_data['Females 15 Poverty'] + minnesota_data['Females 16 to 17 Poverty'] 

minnesota_data['Female Child Poverty (White Alone)'] = minnesota_data['Females < 5 Poverty (White Alone)'] + minnesota_data['Females 5 Poverty (White Alone)'] \
    + minnesota_data['Females 6 to 11 Poverty (White Alone)'] + minnesota_data['Females 12 to 14 Poverty (White Alone)'] \
    + minnesota_data['Females 15 Poverty (White Alone)'] + minnesota_data['Females 16 to 17 Poverty (White Alone)'] 

minnesota_data['Female Child Poverty (Black or African American Alone)'] = minnesota_data['Females < 5 Poverty (Black or African American Alone)'] + minnesota_data['Females 5 Poverty (Black or African American Alone)'] \
    + minnesota_data['Females 6 to 11 Poverty (Black or African American Alone)'] + minnesota_data['Females 12 to 14 Poverty (Black or African American Alone)'] \
    + minnesota_data['Females 15 Poverty (Black or African American Alone)'] + minnesota_data['Females 16 to 17 Poverty (Black or African American Alone)'] 

minnesota_data['Female Child Poverty (American Indian and Alaska Native Alone)'] = minnesota_data['Females < 5 Poverty (American Indian and Alaska Native Alone)'] + minnesota_data['Females 5 Poverty (American Indian and Alaska Native Alone)'] \
    + minnesota_data['Females 6 to 11 Poverty (American Indian and Alaska Native Alone)'] + minnesota_data['Females 12 to 14 Poverty (American Indian and Alaska Native Alone)'] \
    + minnesota_data['Females 15 Poverty (American Indian and Alaska Native Alone)'] + minnesota_data['Females 16 to 17 Poverty (American Indian and Alaska Native Alone)'] 

minnesota_data['Female Child Poverty (Asian Alone)'] = minnesota_data['Females < 5 Poverty (Asian Alone)'] + minnesota_data['Females 5 Poverty (Asian Alone)'] \
    + minnesota_data['Females 6 to 11 Poverty (Asian Alone)'] + minnesota_data['Females 12 to 14 Poverty (Asian Alone)'] \
    + minnesota_data['Females 15 Poverty (Asian Alone)'] + minnesota_data['Females 16 to 17 Poverty (Asian Alone)'] 

minnesota_data['Female Child Poverty (Native Hawaiian and Other Pacific Islander Alone)'] = minnesota_data['Females < 5 Poverty (Native Hawaiian and Other Pacific Islander Alone)'] + minnesota_data['Females 5 Poverty (Native Hawaiian and Other Pacific Islander Alone)'] \
    + minnesota_data['Females 6 to 11 Poverty (Native Hawaiian and Other Pacific Islander Alone)'] + minnesota_data['Females 12 to 14 Poverty (Native Hawaiian and Other Pacific Islander Alone)'] \
    + minnesota_data['Females 15 Poverty (Native Hawaiian and Other Pacific Islander Alone)'] + minnesota_data['Females 16 to 17 Poverty (Native Hawaiian and Other Pacific Islander Alone)'] 

minnesota_data['Female Child Poverty (Some Other Race Alone)'] = minnesota_data['Females < 5 Poverty (Some Other Race Alone)'] + minnesota_data['Females 5 Poverty (Some Other Race Alone)'] \
    + minnesota_data['Females 6 to 11 Poverty (Some Other Race Alone)'] + minnesota_data['Females 12 to 14 Poverty (Some Other Race Alone)'] \
    + minnesota_data['Females 15 Poverty (Some Other Race Alone)'] + minnesota_data['Females 16 to 17 Poverty (Some Other Race Alone)'] 

minnesota_data['Female Child Poverty (Two or More Races)'] = minnesota_data['Females < 5 Poverty (Two or More Races)'] + minnesota_data['Females 5 Poverty (Two or More Races)'] \
    + minnesota_data['Females 6 to 11 Poverty (Two or More Races)'] + minnesota_data['Females 12 to 14 Poverty (Two or More Races)'] \
    + minnesota_data['Females 15 Poverty (Two or More Races)'] + minnesota_data['Females 16 to 17 Poverty (Two or More Races)'] 

minnesota_data['Female Child Poverty (White Alone, Not Hispanic or Latino)'] = minnesota_data['Females < 5 Poverty (White Alone, Not Hispanic or Latino)'] + minnesota_data['Females 5 Poverty (White Alone, Not Hispanic or Latino)'] \
    + minnesota_data['Females 6 to 11 Poverty (White Alone, Not Hispanic or Latino)'] + minnesota_data['Females 12 to 14 Poverty (White Alone, Not Hispanic or Latino)'] \
    + minnesota_data['Females 15 Poverty (White Alone, Not Hispanic or Latino)'] + minnesota_data['Females 16 to 17 Poverty (White Alone, Not Hispanic or Latino)'] 

minnesota_data['Female Child Poverty (Hispanic or Latino)'] = minnesota_data['Females < 5 Poverty (Hispanic or Latino)'] + minnesota_data['Females 5 Poverty (Hispanic or Latino)'] \
    + minnesota_data['Females 6 to 11 Poverty (Hispanic or Latino)'] + minnesota_data['Females 12 to 14 Poverty (Hispanic or Latino)'] \
    + minnesota_data['Females 15 Poverty (Hispanic or Latino)'] + minnesota_data['Females 16 to 17 Poverty (Hispanic or Latino)'] 

minnesota_data['Male Child Poverty'] = minnesota_data['Males < 5 Poverty'] + minnesota_data['Males 5 Poverty'] \
    + minnesota_data['Males 6 to 11 Poverty'] + minnesota_data['Males 12 to 14 Poverty'] \
    + minnesota_data['Males 15 Poverty'] + minnesota_data['Males 16 to 17 Poverty']

minnesota_data['Male Child Poverty (White Alone)'] = minnesota_data['Males < 5 Poverty (White Alone)'] + minnesota_data['Males 5 Poverty (White Alone)'] \
    + minnesota_data['Males 6 to 11 Poverty (White Alone)'] + minnesota_data['Males 12 to 14 Poverty (White Alone)'] \
    + minnesota_data['Males 15 Poverty (White Alone)'] + minnesota_data['Males 16 to 17 Poverty (White Alone)'] 

minnesota_data['Male Child Poverty (Black or African American Alone)'] = minnesota_data['Males < 5 Poverty (Black or African American Alone)'] + minnesota_data['Males 5 Poverty (Black or African American Alone)'] \
    + minnesota_data['Males 6 to 11 Poverty (Black or African American Alone)'] + minnesota_data['Males 12 to 14 Poverty (Black or African American Alone)'] \
    + minnesota_data['Males 15 Poverty (Black or African American Alone)'] + minnesota_data['Males 16 to 17 Poverty (Black or African American Alone)'] 

minnesota_data['Male Child Poverty (American Indian and Alaska Native Alone)'] = minnesota_data['Males < 5 Poverty (American Indian and Alaska Native Alone)'] + minnesota_data['Males 5 Poverty (American Indian and Alaska Native Alone)'] \
    + minnesota_data['Males 6 to 11 Poverty (American Indian and Alaska Native Alone)'] + minnesota_data['Males 12 to 14 Poverty (American Indian and Alaska Native Alone)'] \
    + minnesota_data['Males 15 Poverty (American Indian and Alaska Native Alone)'] + minnesota_data['Males 16 to 17 Poverty (American Indian and Alaska Native Alone)'] 

minnesota_data['Male Child Poverty (Asian Alone)'] = minnesota_data['Males < 5 Poverty (Asian Alone)'] + minnesota_data['Males 5 Poverty (Asian Alone)'] \
    + minnesota_data['Males 6 to 11 Poverty (Asian Alone)'] + minnesota_data['Males 12 to 14 Poverty (Asian Alone)'] \
    + minnesota_data['Males 15 Poverty (Asian Alone)'] + minnesota_data['Males 16 to 17 Poverty (Asian Alone)'] 

minnesota_data['Male Child Poverty (Native Hawaiian and Other Pacific Islander Alone)'] = minnesota_data['Males < 5 Poverty (Native Hawaiian and Other Pacific Islander Alone)'] + minnesota_data['Males 5 Poverty (Native Hawaiian and Other Pacific Islander Alone)'] \
    + minnesota_data['Males 6 to 11 Poverty (Native Hawaiian and Other Pacific Islander Alone)'] + minnesota_data['Males 12 to 14 Poverty (Native Hawaiian and Other Pacific Islander Alone)'] \
    + minnesota_data['Males 15 Poverty (Native Hawaiian and Other Pacific Islander Alone)'] + minnesota_data['Males 16 to 17 Poverty (Native Hawaiian and Other Pacific Islander Alone)'] 

minnesota_data['Male Child Poverty (Some Other Race Alone)'] = minnesota_data['Males < 5 Poverty (Some Other Race Alone)'] + minnesota_data['Males 5 Poverty (Some Other Race Alone)'] \
    + minnesota_data['Males 6 to 11 Poverty (Some Other Race Alone)'] + minnesota_data['Males 12 to 14 Poverty (Some Other Race Alone)'] \
    + minnesota_data['Males 15 Poverty (Some Other Race Alone)'] + minnesota_data['Males 16 to 17 Poverty (Some Other Race Alone)'] 

minnesota_data['Male Child Poverty (Two or More Races)'] = minnesota_data['Males < 5 Poverty (Two or More Races)'] + minnesota_data['Males 5 Poverty (Two or More Races)'] \
    + minnesota_data['Males 6 to 11 Poverty (Two or More Races)'] + minnesota_data['Males 12 to 14 Poverty (Two or More Races)'] \
    + minnesota_data['Males 15 Poverty (Two or More Races)'] + minnesota_data['Males 16 to 17 Poverty (Two or More Races)'] 

minnesota_data['Male Child Poverty (White Alone, Not Hispanic or Latino)'] = minnesota_data['Males < 5 Poverty (White Alone, Not Hispanic or Latino)'] + minnesota_data['Males 5 Poverty (White Alone, Not Hispanic or Latino)'] \
    + minnesota_data['Males 6 to 11 Poverty (White Alone, Not Hispanic or Latino)'] + minnesota_data['Males 12 to 14 Poverty (White Alone, Not Hispanic or Latino)'] \
    + minnesota_data['Males 15 Poverty (White Alone, Not Hispanic or Latino)'] + minnesota_data['Males 16 to 17 Poverty (White Alone, Not Hispanic or Latino)'] 

minnesota_data['Male Child Poverty (Hispanic or Latino)'] = minnesota_data['Males < 5 Poverty (Hispanic or Latino)'] + minnesota_data['Males 5 Poverty (Hispanic or Latino)'] \
    + minnesota_data['Males 6 to 11 Poverty (Hispanic or Latino)'] + minnesota_data['Males 12 to 14 Poverty (Hispanic or Latino)'] \
    + minnesota_data['Males 15 Poverty (Hispanic or Latino)'] + minnesota_data['Males 16 to 17 Poverty (Hispanic or Latino)'] 


minnesota_data['Senior Poverty'] = minnesota_data['Females 55 to 64 Poverty'] + minnesota_data['Females 65 to 74 Poverty'] \
    + minnesota_data['Females 75 > Poverty'] + minnesota_data['Males 55 to 64 Poverty'] \
    + minnesota_data['Males 65 to 74 Poverty'] + minnesota_data['Males 75 > Poverty']

minnesota_data['Senior Poverty (White Alone)'] = minnesota_data['Females 55 to 64 Poverty (White Alone)'] + minnesota_data['Females 65 to 74 Poverty (White Alone)'] \
    + minnesota_data['Females 75 > Poverty (White Alone)'] + minnesota_data['Males 55 to 64 Poverty (White Alone)'] \
    + minnesota_data['Males 65 to 74 Poverty (White Alone)'] + minnesota_data['Males 75 > Poverty (White Alone)']

minnesota_data['Senior Poverty (Black or African American Alone)'] = minnesota_data['Females 55 to 64 Poverty (Black or African American Alone)'] + minnesota_data['Females 65 to 74 Poverty (Black or African American Alone)'] \
    + minnesota_data['Females 75 > Poverty (Black or African American Alone)'] + minnesota_data['Males 55 to 64 Poverty (Black or African American Alone)'] \
    + minnesota_data['Males 65 to 74 Poverty (Black or African American Alone)'] + minnesota_data['Males 75 > Poverty (Black or African American Alone)']

minnesota_data['Senior Poverty (American Indian and Alaska Native Alone)'] = minnesota_data['Females 55 to 64 Poverty (American Indian and Alaska Native Alone)'] + minnesota_data['Females 65 to 74 Poverty (American Indian and Alaska Native Alone)'] \
    + minnesota_data['Females 75 > Poverty (American Indian and Alaska Native Alone)'] + minnesota_data['Males 55 to 64 Poverty (American Indian and Alaska Native Alone)'] \
    + minnesota_data['Males 65 to 74 Poverty (American Indian and Alaska Native Alone)'] + minnesota_data['Males 75 > Poverty (American Indian and Alaska Native Alone)']

minnesota_data['Senior Poverty (Asian Alone)'] = minnesota_data['Females 55 to 64 Poverty (Asian Alone)'] + minnesota_data['Females 65 to 74 Poverty (Asian Alone)'] \
    + minnesota_data['Females 75 > Poverty (Asian Alone)'] + minnesota_data['Males 55 to 64 Poverty (Asian Alone)'] \
    + minnesota_data['Males 65 to 74 Poverty (Asian Alone)'] + minnesota_data['Males 75 > Poverty (Asian Alone)']

minnesota_data['Senior Poverty (Native Hawaiian and Other Pacific Islander Alone)'] = minnesota_data['Females 55 to 64 Poverty (Native Hawaiian and Other Pacific Islander Alone)'] + minnesota_data['Females 65 to 74 Poverty (Native Hawaiian and Other Pacific Islander Alone)'] \
    + minnesota_data['Females 75 > Poverty (Native Hawaiian and Other Pacific Islander Alone)'] + minnesota_data['Males 55 to 64 Poverty (Native Hawaiian and Other Pacific Islander Alone)'] \
    + minnesota_data['Males 65 to 74 Poverty (Native Hawaiian and Other Pacific Islander Alone)'] + minnesota_data['Males 75 > Poverty (Native Hawaiian and Other Pacific Islander Alone)']

minnesota_data['Senior Poverty (Some Other Race Alone)'] = minnesota_data['Females 55 to 64 Poverty (Some Other Race Alone)'] + minnesota_data['Females 65 to 74 Poverty (Some Other Race Alone)'] \
    + minnesota_data['Females 75 > Poverty (Some Other Race Alone)'] + minnesota_data['Males 55 to 64 Poverty (Some Other Race Alone)'] \
    + minnesota_data['Males 65 to 74 Poverty (Some Other Race Alone)'] + minnesota_data['Males 75 > Poverty (Some Other Race Alone)']

minnesota_data['Senior Poverty (Two or More Races)'] = minnesota_data['Females 55 to 64 Poverty (Two or More Races)'] + minnesota_data['Females 65 to 74 Poverty (Two or More Races)'] \
    + minnesota_data['Females 75 > Poverty (Two or More Races)'] + minnesota_data['Males 55 to 64 Poverty (Two or More Races)'] \
    + minnesota_data['Males 65 to 74 Poverty (Two or More Races)'] + minnesota_data['Males 75 > Poverty (Two or More Races)']

minnesota_data['Senior Poverty (White Alone, Not Hispanic or Latino)'] = minnesota_data['Females 55 to 64 Poverty (White Alone, Not Hispanic or Latino)'] + minnesota_data['Females 65 to 74 Poverty (White Alone, Not Hispanic or Latino)'] \
    + minnesota_data['Females 75 > Poverty (White Alone, Not Hispanic or Latino)'] + minnesota_data['Males 55 to 64 Poverty (White Alone, Not Hispanic or Latino)'] \
    + minnesota_data['Males 65 to 74 Poverty (White Alone, Not Hispanic or Latino)'] + minnesota_data['Males 75 > Poverty (White Alone, Not Hispanic or Latino)']

minnesota_data['Senior Poverty (Hispanic or Latino)'] = minnesota_data['Females 55 to 64 Poverty (Hispanic or Latino)'] + minnesota_data['Females 65 to 74 Poverty (Hispanic or Latino)'] \
    + minnesota_data['Females 75 > Poverty (Hispanic or Latino)'] + minnesota_data['Males 55 to 64 Poverty (Hispanic or Latino)'] \
    + minnesota_data['Males 65 to 74 Poverty (Hispanic or Latino)'] + minnesota_data['Males 75 > Poverty (Hispanic or Latino)']

minnesota_data['Female Senior Poverty'] = minnesota_data['Females 55 to 64 Poverty'] + minnesota_data['Females 65 to 74 Poverty'] \
    + minnesota_data['Females 75 > Poverty'] 

minnesota_data['Female Senior Poverty (White Alone)'] = minnesota_data['Females 55 to 64 Poverty (White Alone)'] + minnesota_data['Females 65 to 74 Poverty (White Alone)'] \
    + minnesota_data['Females 75 > Poverty (White Alone)'] 

minnesota_data['Female Senior Poverty (Black or African American Alone)'] = minnesota_data['Females 55 to 64 Poverty (Black or African American Alone)'] + minnesota_data['Females 65 to 74 Poverty (Black or African American Alone)'] \
    + minnesota_data['Females 75 > Poverty (Black or African American Alone)'] 

minnesota_data['Female Senior Poverty (American Indian and Alaska Native Alone)'] = minnesota_data['Females 55 to 64 Poverty (American Indian and Alaska Native Alone)'] + minnesota_data['Females 65 to 74 Poverty (American Indian and Alaska Native Alone)'] \
    + minnesota_data['Females 75 > Poverty (American Indian and Alaska Native Alone)']

minnesota_data['Female Senior Poverty (Asian Alone)'] = minnesota_data['Females 55 to 64 Poverty (Asian Alone)'] + minnesota_data['Females 65 to 74 Poverty (Asian Alone)'] \
    + minnesota_data['Females 75 > Poverty (Asian Alone)'] 

minnesota_data['Female Senior Poverty (Native Hawaiian and Other Pacific Islander Alone)'] = minnesota_data['Females 55 to 64 Poverty (Native Hawaiian and Other Pacific Islander Alone)'] + minnesota_data['Females 65 to 74 Poverty (Native Hawaiian and Other Pacific Islander Alone)'] \
    + minnesota_data['Females 75 > Poverty (Native Hawaiian and Other Pacific Islander Alone)'] 

minnesota_data['Female Senior Poverty (Some Other Race Alone)'] = minnesota_data['Females 55 to 64 Poverty (Some Other Race Alone)'] + minnesota_data['Females 65 to 74 Poverty (Some Other Race Alone)'] \
    + minnesota_data['Females 75 > Poverty (Some Other Race Alone)'] 

minnesota_data['Female Senior Poverty (Two or More Races)'] = minnesota_data['Females 55 to 64 Poverty (Two or More Races)'] + minnesota_data['Females 65 to 74 Poverty (Two or More Races)'] \
    + minnesota_data['Females 75 > Poverty (Two or More Races)'] 

minnesota_data['Female Senior Poverty (White Alone, Not Hispanic or Latino)'] = minnesota_data['Females 55 to 64 Poverty (White Alone, Not Hispanic or Latino)'] + minnesota_data['Females 65 to 74 Poverty (White Alone, Not Hispanic or Latino)'] \
    + minnesota_data['Females 75 > Poverty (White Alone, Not Hispanic or Latino)'] 

minnesota_data['Female Senior Poverty (Hispanic or Latino)'] = minnesota_data['Females 55 to 64 Poverty (Hispanic or Latino)'] + minnesota_data['Females 65 to 74 Poverty (Hispanic or Latino)'] \
    + minnesota_data['Females 75 > Poverty (Hispanic or Latino)'] 


minnesota_data['Male Senior Poverty'] = minnesota_data['Males 55 to 64 Poverty'] \
    + minnesota_data['Males 65 to 74 Poverty'] + minnesota_data['Males 75 > Poverty']

minnesota_data['Male Senior Poverty (White Alone)'] = minnesota_data['Males 55 to 64 Poverty (White Alone)'] + minnesota_data['Males 65 to 74 Poverty (White Alone)'] \
    + minnesota_data['Males 75 > Poverty (White Alone)'] 

minnesota_data['Male Senior Poverty (Black or African American Alone)'] = minnesota_data['Males 55 to 64 Poverty (Black or African American Alone)'] + minnesota_data['Males 65 to 74 Poverty (Black or African American Alone)'] \
    + minnesota_data['Males 75 > Poverty (Black or African American Alone)'] 

minnesota_data['Male Senior Poverty (American Indian and Alaska Native Alone)'] = minnesota_data['Males 55 to 64 Poverty (American Indian and Alaska Native Alone)'] + minnesota_data['Males 65 to 74 Poverty (American Indian and Alaska Native Alone)'] \
    + minnesota_data['Males 75 > Poverty (American Indian and Alaska Native Alone)']

minnesota_data['Male Senior Poverty (Asian Alone)'] = minnesota_data['Males 55 to 64 Poverty (Asian Alone)'] + minnesota_data['Males 65 to 74 Poverty (Asian Alone)'] \
    + minnesota_data['Males 75 > Poverty (Asian Alone)'] 

minnesota_data['Male Senior Poverty (Native Hawaiian and Other Pacific Islander Alone)'] = minnesota_data['Males 55 to 64 Poverty (Native Hawaiian and Other Pacific Islander Alone)'] + minnesota_data['Males 65 to 74 Poverty (Native Hawaiian and Other Pacific Islander Alone)'] \
    + minnesota_data['Males 75 > Poverty (Native Hawaiian and Other Pacific Islander Alone)'] 

minnesota_data['Male Senior Poverty (Some Other Race Alone)'] = minnesota_data['Males 55 to 64 Poverty (Some Other Race Alone)'] + minnesota_data['Males 65 to 74 Poverty (Some Other Race Alone)'] \
    + minnesota_data['Males 75 > Poverty (Some Other Race Alone)'] 

minnesota_data['Male Senior Poverty (Two or More Races)'] = minnesota_data['Males 55 to 64 Poverty (Two or More Races)'] + minnesota_data['Males 65 to 74 Poverty (Two or More Races)'] \
    + minnesota_data['Males 75 > Poverty (Two or More Races)'] 

minnesota_data['Male Senior Poverty (White Alone, Not Hispanic or Latino)'] = minnesota_data['Males 55 to 64 Poverty (White Alone, Not Hispanic or Latino)'] + minnesota_data['Males 65 to 74 Poverty (White Alone, Not Hispanic or Latino)'] \
    + minnesota_data['Males 75 > Poverty (White Alone, Not Hispanic or Latino)'] 

minnesota_data['Male Senior Poverty (Hispanic or Latino)'] = minnesota_data['Males 55 to 64 Poverty (Hispanic or Latino)'] + minnesota_data['Males 65 to 74 Poverty (Hispanic or Latino)'] \
    + minnesota_data['Males 75 > Poverty (Hispanic or Latino)'] 



#Cleaning data with blanks in order to come up with percentages later
minnesota_data['Population Poverty'] = pd.to_numeric(minnesota_data['Population Poverty'], errors='coerce').fillna(0)
minnesota_data['Population Poverty'] = pd.to_numeric(minnesota_data['Population Poverty'], errors='coerce').fillna(0)
minnesota_data['Population Poverty'] = pd.to_numeric(minnesota_data['Population Poverty'], errors='coerce').fillna(0)
minnesota_data['Population Poverty'] = pd.to_numeric(minnesota_data['Population Poverty'], errors='coerce').fillna(0)
minnesota_data['Population Poverty'] = pd.to_numeric(minnesota_data['Population Poverty'], errors='coerce').fillna(0)
minnesota_data['Population Poverty'] = pd.to_numeric(minnesota_data['Population Poverty'], errors='coerce').fillna(0)
minnesota_data['Population Poverty'] = pd.to_numeric(minnesota_data['Population Poverty'], errors='coerce').fillna(0)
minnesota_data['Population Poverty'] = pd.to_numeric(minnesota_data['Population Poverty'], errors='coerce').fillna(0)
minnesota_data['Population Poverty'] = pd.to_numeric(minnesota_data['Population Poverty'], errors='coerce').fillna(0)
minnesota_data['Population Poverty'] = pd.to_numeric(minnesota_data['Population Poverty'], errors='coerce').fillna(0)

minnesota_data['Female Poverty'] = pd.to_numeric(minnesota_data['Female Poverty'], errors='coerce').fillna(0)
minnesota_data['Female Poverty (White Alone)'] = pd.to_numeric(minnesota_data['Female Poverty (White Alone)'], errors='coerce').fillna(0)
minnesota_data['Female Poverty (Black or African American Alone)'] = pd.to_numeric(minnesota_data['Female Poverty (Black or African American Alone)'], errors='coerce').fillna(0)
minnesota_data['Female Poverty (American Indian and Alaska Native Alone)'] = pd.to_numeric(minnesota_data['Female Poverty (American Indian and Alaska Native Alone)'], errors='coerce').fillna(0)
minnesota_data['Female Poverty (Asian Alone)'] = pd.to_numeric(minnesota_data['Female Poverty (Asian Alone)'], errors='coerce').fillna(0)
minnesota_data['Female Poverty (Native Hawaiian and Other Pacific Islander Alone)'] = pd.to_numeric(minnesota_data['Female Poverty (Native Hawaiian and Other Pacific Islander Alone)'], errors='coerce').fillna(0)
minnesota_data['Female Poverty (Some Other Race Alone)'] = pd.to_numeric(minnesota_data['Female Poverty (Some Other Race Alone)'], errors='coerce').fillna(0)
minnesota_data['Female Poverty (Two or More Races)'] = pd.to_numeric(minnesota_data['Female Poverty (Two or More Races)'], errors='coerce').fillna(0)
minnesota_data['Female Poverty (White Alone, Not Hispanic or Latino)'] = pd.to_numeric(minnesota_data['Female Poverty (White Alone, Not Hispanic or Latino)'], errors='coerce').fillna(0)
minnesota_data['Female Poverty (Hispanic or Latino)'] = pd.to_numeric(minnesota_data['Female Poverty (Hispanic or Latino)'], errors='coerce').fillna(0)

minnesota_data['Child Poverty'] = pd.to_numeric(minnesota_data['Child Poverty'], errors='coerce').fillna(0)
minnesota_data['Child Poverty (White Alone)'] = pd.to_numeric(minnesota_data['Child Poverty (White Alone)'], errors='coerce').fillna(0)
minnesota_data['Child Poverty (Black or African American Alone)'] = pd.to_numeric(minnesota_data['Child Poverty (Black or African American Alone)'], errors='coerce').fillna(0)
minnesota_data['Child Poverty (American Indian and Alaska Native Alone)'] = pd.to_numeric(minnesota_data['Child Poverty (American Indian and Alaska Native Alone)'], errors='coerce').fillna(0)
minnesota_data['Child Poverty (Asian Alone)'] = pd.to_numeric(minnesota_data['Child Poverty (Asian Alone)'], errors='coerce').fillna(0)
minnesota_data['Child Poverty (Native Hawaiian and Other Pacific Islander Alone)'] = pd.to_numeric(minnesota_data['Child Poverty (Native Hawaiian and Other Pacific Islander Alone)'], errors='coerce').fillna(0)
minnesota_data['Child Poverty (Some Other Race Alone)'] = pd.to_numeric(minnesota_data['Child Poverty (Some Other Race Alone)'], errors='coerce').fillna(0)
minnesota_data['Child Poverty (Two or More Races)'] = pd.to_numeric(minnesota_data['Child Poverty (Two or More Races)'], errors='coerce').fillna(0)
minnesota_data['Child Poverty (White Alone, Not Hispanic or Latino)'] = pd.to_numeric(minnesota_data['Child Poverty (White Alone, Not Hispanic or Latino)'], errors='coerce').fillna(0)
minnesota_data['Child Poverty (Hispanic or Latino)'] = pd.to_numeric(minnesota_data['Child Poverty (Hispanic or Latino)'], errors='coerce').fillna(0)

minnesota_data['Female Child Poverty'] = pd.to_numeric(minnesota_data['Female Child Poverty'], errors='coerce').fillna(0)
minnesota_data['Female Child Poverty (White Alone)'] = pd.to_numeric(minnesota_data['Female Child Poverty (White Alone)'], errors='coerce').fillna(0)
minnesota_data['Female Child Poverty (Black or African American Alone)'] = pd.to_numeric(minnesota_data['Female Child Poverty (Black or African American Alone)'], errors='coerce').fillna(0)
minnesota_data['Female Child Poverty (American Indian and Alaska Native Alone)'] = pd.to_numeric(minnesota_data['Female Child Poverty (American Indian and Alaska Native Alone)'], errors='coerce').fillna(0)
minnesota_data['Female Child Poverty (Asian Alone)'] = pd.to_numeric(minnesota_data['Female Child Poverty (Asian Alone)'], errors='coerce').fillna(0)
minnesota_data['Female Child Poverty (Native Hawaiian and Other Pacific Islander Alone)'] = pd.to_numeric(minnesota_data['Female Child Poverty (Native Hawaiian and Other Pacific Islander Alone)'], errors='coerce').fillna(0)
minnesota_data['Female Child Poverty (Some Other Race Alone)'] = pd.to_numeric(minnesota_data['Female Child Poverty (Some Other Race Alone)'], errors='coerce').fillna(0)
minnesota_data['Female Child Poverty (Two or More Races)'] = pd.to_numeric(minnesota_data['Female Child Poverty (Two or More Races)'], errors='coerce').fillna(0)
minnesota_data['Female Child Poverty (White Alone, Not Hispanic or Latino)'] = pd.to_numeric(minnesota_data['Female Child Poverty (White Alone, Not Hispanic or Latino)'], errors='coerce').fillna(0)
minnesota_data['Female Child Poverty (Hispanic or Latino)'] = pd.to_numeric(minnesota_data['Female Child Poverty (Hispanic or Latino)'], errors='coerce').fillna(0)

minnesota_data['Male Child Poverty'] = pd.to_numeric(minnesota_data['Male Child Poverty'], errors='coerce').fillna(0)
minnesota_data['Male Child Poverty (White Alone)'] = pd.to_numeric(minnesota_data['Male Child Poverty (White Alone)'], errors='coerce').fillna(0)
minnesota_data['Male Child Poverty (Black or African American Alone)'] = pd.to_numeric(minnesota_data['Male Child Poverty (Black or African American Alone)'], errors='coerce').fillna(0)
minnesota_data['Male Child Poverty (American Indian and Alaska Native Alone)'] = pd.to_numeric(minnesota_data['Male Child Poverty (American Indian and Alaska Native Alone)'], errors='coerce').fillna(0)
minnesota_data['Male Child Poverty (Asian Alone)'] = pd.to_numeric(minnesota_data['Male Child Poverty (Asian Alone)'], errors='coerce').fillna(0)
minnesota_data['Male Child Poverty (Native Hawaiian and Other Pacific Islander Alone)'] = pd.to_numeric(minnesota_data['Male Child Poverty (Native Hawaiian and Other Pacific Islander Alone)'], errors='coerce').fillna(0)
minnesota_data['Male Child Poverty (Some Other Race Alone)'] = pd.to_numeric(minnesota_data['Male Child Poverty (Some Other Race Alone)'], errors='coerce').fillna(0)
minnesota_data['Male Child Poverty (Two or More Races)'] = pd.to_numeric(minnesota_data['Male Child Poverty (Two or More Races)'], errors='coerce').fillna(0)
minnesota_data['Male Child Poverty (White Alone, Not Hispanic or Latino)'] = pd.to_numeric(minnesota_data['Male Child Poverty (White Alone, Not Hispanic or Latino)'], errors='coerce').fillna(0)
minnesota_data['Male Child Poverty (Hispanic or Latino)'] = pd.to_numeric(minnesota_data['Male Child Poverty (Hispanic or Latino)'], errors='coerce').fillna(0)

minnesota_data['Senior Poverty'] = pd.to_numeric(minnesota_data['Senior Poverty'], errors='coerce').fillna(0)
minnesota_data['Senior Poverty (White Alone)'] = pd.to_numeric(minnesota_data['Senior Poverty (White Alone)'], errors='coerce').fillna(0)
minnesota_data['Senior Poverty (Black or African American Alone)'] = pd.to_numeric(minnesota_data['Senior Poverty (Black or African American Alone)'], errors='coerce').fillna(0)
minnesota_data['Senior Poverty (American Indian and Alaska Native Alone)'] = pd.to_numeric(minnesota_data['Senior Poverty (American Indian and Alaska Native Alone)'], errors='coerce').fillna(0)
minnesota_data['Senior Poverty (Asian Alone)'] = pd.to_numeric(minnesota_data['Senior Poverty (Asian Alone)'], errors='coerce').fillna(0)
minnesota_data['Senior Poverty (Native Hawaiian and Other Pacific Islander Alone)'] = pd.to_numeric(minnesota_data['Senior Poverty (Native Hawaiian and Other Pacific Islander Alone)'], errors='coerce').fillna(0)
minnesota_data['Senior Poverty (Some Other Race Alone)'] = pd.to_numeric(minnesota_data['Senior Poverty (Some Other Race Alone)'], errors='coerce').fillna(0)
minnesota_data['Senior Poverty (Two or More Races)'] = pd.to_numeric(minnesota_data['Senior Poverty (Two or More Races)'], errors='coerce').fillna(0)
minnesota_data['Senior Poverty (White Alone, Not Hispanic or Latino)'] = pd.to_numeric(minnesota_data['Senior Poverty (White Alone, Not Hispanic or Latino)'], errors='coerce').fillna(0)
minnesota_data['Senior Poverty (Hispanic or Latino)'] = pd.to_numeric(minnesota_data['Senior Poverty (Hispanic or Latino)'], errors='coerce').fillna(0)

minnesota_data['Female Senior Poverty'] = pd.to_numeric(minnesota_data['Female Senior Poverty'], errors='coerce').fillna(0)
minnesota_data['Female Senior Poverty (White Alone)'] = pd.to_numeric(minnesota_data['Female Senior Poverty (White Alone)'], errors='coerce').fillna(0)
minnesota_data['Female Senior Poverty (Black or African American Alone)'] = pd.to_numeric(minnesota_data['Female Senior Poverty (Black or African American Alone)'], errors='coerce').fillna(0)
minnesota_data['Female Senior Poverty (American Indian and Alaska Native Alone)'] = pd.to_numeric(minnesota_data['Female Senior Poverty (American Indian and Alaska Native Alone)'], errors='coerce').fillna(0)
minnesota_data['Female Senior Poverty (Asian Alone)'] = pd.to_numeric(minnesota_data['Female Senior Poverty (Asian Alone)'], errors='coerce').fillna(0)
minnesota_data['Female Senior Poverty (Native Hawaiian and Other Pacific Islander Alone)'] = pd.to_numeric(minnesota_data['Female Senior Poverty (Native Hawaiian and Other Pacific Islander Alone)'], errors='coerce').fillna(0)
minnesota_data['Female Senior Poverty (Some Other Race Alone)'] = pd.to_numeric(minnesota_data['Female Senior Poverty (Some Other Race Alone)'], errors='coerce').fillna(0)
minnesota_data['Female Senior Poverty (Two or More Races)'] = pd.to_numeric(minnesota_data['Female Senior Poverty (Two or More Races)'], errors='coerce').fillna(0)
minnesota_data['Female Senior Poverty (White Alone, Not Hispanic or Latino)'] = pd.to_numeric(minnesota_data['Female Senior Poverty (White Alone, Not Hispanic or Latino)'], errors='coerce').fillna(0)
minnesota_data['Female Senior Poverty (Hispanic or Latino)'] = pd.to_numeric(minnesota_data['Female Senior Poverty (Hispanic or Latino)'], errors='coerce').fillna(0)

minnesota_data['Male Senior Poverty'] = pd.to_numeric(minnesota_data['Male Senior Poverty'], errors='coerce').fillna(0)
minnesota_data['Male Senior Poverty (White Alone)'] = pd.to_numeric(minnesota_data['Male Senior Poverty (White Alone)'], errors='coerce').fillna(0)
minnesota_data['Male Senior Poverty (Black or African American Alone)'] = pd.to_numeric(minnesota_data['Male Senior Poverty (Black or African American Alone)'], errors='coerce').fillna(0)
minnesota_data['Male Senior Poverty (American Indian and Alaska Native Alone)'] = pd.to_numeric(minnesota_data['Male Senior Poverty (American Indian and Alaska Native Alone)'], errors='coerce').fillna(0)
minnesota_data['Male Senior Poverty (Asian Alone)'] = pd.to_numeric(minnesota_data['Male Senior Poverty (Asian Alone)'], errors='coerce').fillna(0)
minnesota_data['Male Senior Poverty (Native Hawaiian and Other Pacific Islander Alone)'] = pd.to_numeric(minnesota_data['Male Senior Poverty (Native Hawaiian and Other Pacific Islander Alone)'], errors='coerce').fillna(0)
minnesota_data['Male Senior Poverty (Some Other Race Alone)'] = pd.to_numeric(minnesota_data['Male Senior Poverty (Some Other Race Alone)'], errors='coerce').fillna(0)
minnesota_data['Male Senior Poverty (Two or More Races)'] = pd.to_numeric(minnesota_data['Male Senior Poverty (Two or More Races)'], errors='coerce').fillna(0)
minnesota_data['Male Senior Poverty (White Alone, Not Hispanic or Latino)'] = pd.to_numeric(minnesota_data['Male Senior Poverty (White Alone, Not Hispanic or Latino)'], errors='coerce').fillna(0)
minnesota_data['Male Senior Poverty (Hispanic or Latino)'] = pd.to_numeric(minnesota_data['Male Senior Poverty (Hispanic or Latino)'], errors='coerce').fillna(0)

minnesota_data['Sample Population'] = pd.to_numeric(minnesota_data['Sample Population'], errors='coerce').fillna(0)
minnesota_data['Sample Population (White Alone)'] = pd.to_numeric(minnesota_data['Sample Population (White Alone)'], errors='coerce').fillna(0)
minnesota_data['Sample Population (Black or African American Alone)'] = pd.to_numeric(minnesota_data['Sample Population (Black or African American Alone)'], errors='coerce').fillna(0)
minnesota_data['Sample Population (American Indian and Alaska Native Alone)'] = pd.to_numeric(minnesota_data['Sample Population (American Indian and Alaska Native Alone)'], errors='coerce').fillna(0)
minnesota_data['Sample Population (Asian Alone)'] = pd.to_numeric(minnesota_data['Sample Population (Asian Alone)'], errors='coerce').fillna(0)
minnesota_data['Sample Population (Native Hawaiian and Other Pacific Islander Alone)'] = pd.to_numeric(minnesota_data['Sample Population (Native Hawaiian and Other Pacific Islander Alone)'], errors='coerce').fillna(0)
minnesota_data['Sample Population (Some Other Race Alone)'] = pd.to_numeric(minnesota_data['Sample Population (Some Other Race Alone)'], errors='coerce').fillna(0)
minnesota_data['Sample Population (Two or More Races)'] = pd.to_numeric(minnesota_data['Sample Population (Two or More Races)'], errors='coerce').fillna(0)
minnesota_data['Sample Population (White Alone, Not Hispanic or Latino)'] = pd.to_numeric(minnesota_data['Sample Population (White Alone, Not Hispanic or Latino)'], errors='coerce').fillna(0)
minnesota_data['Sample Population (Hispanic or Latino)'] = pd.to_numeric(minnesota_data['Sample Population (Hispanic or Latino)'], errors='coerce').fillna(0)



#need to determine per county poverty percentages based on categories
#By gender, race, and age categories

columns_to_concat = ['Poverty %', 'Poverty % (White Alone)', 'Poverty % (Black or African American Alone)',
                     'Poverty % (American Indian and Alaska Native Alone)', 'Poverty % (Asian Alone)', 
                     'Poverty % (Native Hawaiian and Other Pacific Islander Alone)', 'Poverty % (Some Other Race Alone)',
                     'Poverty % (Two or More Races)', 'Poverty % (White Alone, Not Hispanic or Latino)', 
                     'Poverty % (Hispanic or Latino)', 
                     'Female Poverty %', 'Female Poverty % (White Alone)', 
                     'Female Poverty % (Black or African American Alone)',
                     'Female Poverty % (American Indian and Alaska Native Alone)', 
                     'Female Poverty % (Asian Alone)', 
                     'Female Poverty % (Native Hawaiian and Other Pacific Islander Alone)', 
                     'Female Poverty % (Some Other Race Alone)',
                     'Female Poverty % (Two or More Races)', 'Female Poverty % (White Alone, Not Hispanic or Latino)', 
                     'Female Poverty % (Hispanic or Latino)',
                     'Male Poverty %', 'Male Poverty % (White Alone)', 
                     'Male Poverty % (Black or African American Alone)',
                     'Male Poverty % (American Indian and Alaska Native Alone)', 
                     'Male Poverty % (Asian Alone)', 
                     'Male Poverty % (Native Hawaiian and Other Pacific Islander Alone)', 
                     'Male Poverty % (Some Other Race Alone)',
                     'Male Poverty % (Two or More Races)', 'Male Poverty % (White Alone, Not Hispanic or Latino)', 
                     'Male Poverty % (Hispanic or Latino)',
                     'Child Poverty %', 'Child Poverty % (White Alone)', 
                     'Child Poverty % (Black or African American Alone)',
                     'Child Poverty % (American Indian and Alaska Native Alone)', 
                     'Child Poverty % (Asian Alone)', 
                     'Child Poverty % (Native Hawaiian and Other Pacific Islander Alone)', 
                     'Child Poverty % (Some Other Race Alone)',
                     'Child Poverty % (Two or More Races)', 'Child Poverty % (White Alone, Not Hispanic or Latino)', 
                     'Child Poverty % (Hispanic or Latino)',
                     'Female Child Poverty %', 'Female Child Poverty % (White Alone)', 
                     'Female Child Poverty % (Black or African American Alone)',
                     'Female Child Poverty % (American Indian and Alaska Native Alone)', 
                     'Female Child Poverty % (Asian Alone)', 
                     'Female Child Poverty % (Native Hawaiian and Other Pacific Islander Alone)', 
                     'Female Child Poverty % (Some Other Race Alone)',
                     'Female Child Poverty % (Two or More Races)', 
                     'Female Child Poverty % (White Alone, Not Hispanic or Latino)', 
                     'Female Child Poverty % (Hispanic or Latino)',
                     'Male Child Poverty %', 'Male Child Poverty % (White Alone)', 
                     'Male Child Poverty % (Black or African American Alone)',
                     'Male Child Poverty % (American Indian and Alaska Native Alone)', 
                     'Male Child Poverty % (Asian Alone)', 
                     'Male Child Poverty % (Native Hawaiian and Other Pacific Islander Alone)', 
                     'Male Child Poverty % (Some Other Race Alone)',
                     'Male Child Poverty % (Two or More Races)', 
                     'Male Child Poverty % (White Alone, Not Hispanic or Latino)', 
                     'Male Child Poverty % (Hispanic or Latino)',
                     'Senior Poverty %', 'Senior Poverty % (White Alone)', 
                     'Senior Poverty % (Black or African American Alone)',
                     'Senior Poverty % (American Indian and Alaska Native Alone)', 
                     'Senior Poverty % (Asian Alone)', 
                     'Senior Poverty % (Native Hawaiian and Other Pacific Islander Alone)', 
                     'Senior Poverty % (Some Other Race Alone)',
                     'Senior Poverty % (Two or More Races)', 'Senior Poverty % (White Alone, Not Hispanic or Latino)', 
                     'Senior Poverty % (Hispanic or Latino)',
                     'Female Senior Poverty %', 'Female Senior Poverty % (White Alone)', 
                     'Female Senior Poverty % (Black or African American Alone)',
                     'Female Senior Poverty % (American Indian and Alaska Native Alone)', 
                     'Female Senior Poverty % (Asian Alone)', 
                     'Female Senior Poverty % (Native Hawaiian and Other Pacific Islander Alone)', 
                     'Female Senior Poverty % (Some Other Race Alone)',
                     'Female Senior Poverty % (Two or More Races)', 
                     'Female Senior Poverty % (White Alone, Not Hispanic or Latino)', 
                     'Female Senior Poverty % (Hispanic or Latino)',
                     'Male Senior Poverty %', 'Male Senior Poverty % (White Alone)', 
                     'Male Senior Poverty % (Black or African American Alone)',
                     'Male Senior Poverty % (American Indian and Alaska Native Alone)', 
                     'Male Senior Poverty % (Asian Alone)', 
                     'Male Senior Poverty % (Native Hawaiian and Other Pacific Islander Alone)', 
                     'Male Senior Poverty % (Some Other Race Alone)',
                     'Male Senior Poverty % (Two or More Races)', 
                     'Male Senior Poverty % (White Alone, Not Hispanic or Latino)', 
                     'Male Senior Poverty % (Hispanic or Latino)'
]

concatenated_data = pd.concat([
    (minnesota_data['Population Poverty'] / minnesota_data['Sample Population']) *100,
    (minnesota_data['Population Poverty (White Alone)'] / minnesota_data['Sample Population (White Alone)']) *100,
    (minnesota_data['Population Poverty (Black or African American Alone)'] / minnesota_data['Sample Population (Black or African American Alone)']) *100,
    (minnesota_data['Population Poverty (American Indian and Alaska Native Alone)'] / minnesota_data['Sample Population (American Indian and Alaska Native Alone)']) *100,
    (minnesota_data['Population Poverty (Asian Alone)'] / minnesota_data['Sample Population (Asian Alone)']) *100,
    (minnesota_data['Population Poverty (Native Hawaiian and Other Pacific Islander Alone)'] / minnesota_data['Sample Population (Native Hawaiian and Other Pacific Islander Alone)']) *100,
    (minnesota_data['Population Poverty (Some Other Race Alone)'] / minnesota_data['Sample Population (Some Other Race Alone)']) *100,
    (minnesota_data['Population Poverty (Two or More Races)'] / minnesota_data['Sample Population (Two or More Races)']) *100,
    (minnesota_data['Population Poverty (White Alone, Not Hispanic or Latino)'] / minnesota_data['Sample Population (White Alone, Not Hispanic or Latino)']) *100,
    (minnesota_data['Population Poverty (Hispanic or Latino)'] / minnesota_data['Sample Population (Hispanic or Latino)']) *100,
    (minnesota_data['Female Poverty'] / minnesota_data['Sample Population']) *100,
    (minnesota_data['Female Poverty (White Alone)'] / minnesota_data['Sample Population (White Alone)']) *100,
    (minnesota_data['Female Poverty (Black or African American Alone)'] / minnesota_data['Sample Population (Black or African American Alone)']) *100,
    (minnesota_data['Female Poverty (American Indian and Alaska Native Alone)'] / minnesota_data['Sample Population (American Indian and Alaska Native Alone)']) *100,
    (minnesota_data['Female Poverty (Asian Alone)'] / minnesota_data['Sample Population (Asian Alone)']) *100,
    (minnesota_data['Female Poverty (Native Hawaiian and Other Pacific Islander Alone)'] / minnesota_data['Sample Population (Native Hawaiian and Other Pacific Islander Alone)']) *100,
    (minnesota_data['Female Poverty (Some Other Race Alone)'] / minnesota_data['Sample Population (Some Other Race Alone)']) *100,
    (minnesota_data['Female Poverty (Two or More Races)'] / minnesota_data['Sample Population (Two or More Races)']) *100,
    (minnesota_data['Female Poverty (White Alone, Not Hispanic or Latino)'] / minnesota_data['Sample Population (White Alone, Not Hispanic or Latino)']) *100,
    (minnesota_data['Female Poverty (Hispanic or Latino)'] / minnesota_data['Sample Population (Hispanic or Latino)']) *100,
    (minnesota_data['Male Poverty'] / minnesota_data['Sample Population']) *100,
    (minnesota_data['Male Poverty (White Alone)'] / minnesota_data['Sample Population (White Alone)']) *100,
    (minnesota_data['Male Poverty (Black or African American Alone)'] / minnesota_data['Sample Population (Black or African American Alone)']) *100,
    (minnesota_data['Male Poverty (American Indian and Alaska Native Alone)'] / minnesota_data['Sample Population (American Indian and Alaska Native Alone)']) *100,
    (minnesota_data['Male Poverty (Asian Alone)'] / minnesota_data['Sample Population (Asian Alone)']) *100,
    (minnesota_data['Male Poverty (Native Hawaiian and Other Pacific Islander Alone)'] / minnesota_data['Sample Population (Native Hawaiian and Other Pacific Islander Alone)']) *100,
    (minnesota_data['Male Poverty (Some Other Race Alone)'] / minnesota_data['Sample Population (Some Other Race Alone)']) *100,
    (minnesota_data['Male Poverty (Two or More Races)'] / minnesota_data['Sample Population (Two or More Races)']) *100,
    (minnesota_data['Male Poverty (White Alone, Not Hispanic or Latino)'] / minnesota_data['Sample Population (White Alone, Not Hispanic or Latino)']) *100,
    (minnesota_data['Male Poverty (Hispanic or Latino)'] / minnesota_data['Sample Population (Hispanic or Latino)']) *100,
    (minnesota_data['Child Poverty'] / minnesota_data['Sample Population']) *100,
    (minnesota_data['Child Poverty (White Alone)'] / minnesota_data['Sample Population (White Alone)']) *100,
    (minnesota_data['Child Poverty (Black or African American Alone)'] / minnesota_data['Sample Population (Black or African American Alone)']) *100,
    (minnesota_data['Child Poverty (American Indian and Alaska Native Alone)'] / minnesota_data['Sample Population (American Indian and Alaska Native Alone)']) *100,
    (minnesota_data['Child Poverty (Asian Alone)'] / minnesota_data['Sample Population (Asian Alone)']) *100,
    (minnesota_data['Child Poverty (Native Hawaiian and Other Pacific Islander Alone)'] / minnesota_data['Sample Population (Native Hawaiian and Other Pacific Islander Alone)']) *100,
    (minnesota_data['Child Poverty (Some Other Race Alone)'] / minnesota_data['Sample Population (Some Other Race Alone)']) *100,
    (minnesota_data['Child Poverty (Two or More Races)'] / minnesota_data['Sample Population (Two or More Races)']) *100,
    (minnesota_data['Child Poverty (White Alone, Not Hispanic or Latino)'] / minnesota_data['Sample Population (White Alone, Not Hispanic or Latino)']) *100,
    (minnesota_data['Child Poverty (Hispanic or Latino)'] / minnesota_data['Sample Population (Hispanic or Latino)']) *100,
    (minnesota_data['Female Child Poverty'] / minnesota_data['Sample Population']) *100,
    (minnesota_data['Female Child Poverty (White Alone)'] / minnesota_data['Sample Population (White Alone)']) *100,
    (minnesota_data['Female Child Poverty (Black or African American Alone)'] / minnesota_data['Sample Population (Black or African American Alone)']) *100,
    (minnesota_data['Female Child Poverty (American Indian and Alaska Native Alone)'] / minnesota_data['Sample Population (American Indian and Alaska Native Alone)']) *100,
    (minnesota_data['Female Child Poverty (Asian Alone)'] / minnesota_data['Sample Population (Asian Alone)']) *100,
    (minnesota_data['Female Child Poverty (Native Hawaiian and Other Pacific Islander Alone)'] / minnesota_data['Sample Population (Native Hawaiian and Other Pacific Islander Alone)']) *100,
    (minnesota_data['Female Child Poverty (Some Other Race Alone)'] / minnesota_data['Sample Population (Some Other Race Alone)']) *100,
    (minnesota_data['Female Child Poverty (Two or More Races)'] / minnesota_data['Sample Population (Two or More Races)']) *100,
    (minnesota_data['Female Child Poverty (White Alone, Not Hispanic or Latino)'] / minnesota_data['Sample Population (White Alone, Not Hispanic or Latino)']) *100,
    (minnesota_data['Female Child Poverty (Hispanic or Latino)'] / minnesota_data['Sample Population (Hispanic or Latino)']) *100,
    (minnesota_data['Male Child Poverty'] / minnesota_data['Sample Population']) *100,
    (minnesota_data['Male Child Poverty (White Alone)'] / minnesota_data['Sample Population (White Alone)']) *100,
    (minnesota_data['Male Child Poverty (Black or African American Alone)'] / minnesota_data['Sample Population (Black or African American Alone)']) *100,
    (minnesota_data['Male Child Poverty (American Indian and Alaska Native Alone)'] / minnesota_data['Sample Population (American Indian and Alaska Native Alone)']) *100,
    (minnesota_data['Male Child Poverty (Asian Alone)'] / minnesota_data['Sample Population (Asian Alone)']) *100,
    (minnesota_data['Male Child Poverty (Native Hawaiian and Other Pacific Islander Alone)'] / minnesota_data['Sample Population (Native Hawaiian and Other Pacific Islander Alone)']) *100,
    (minnesota_data['Male Child Poverty (Some Other Race Alone)'] / minnesota_data['Sample Population (Some Other Race Alone)']) *100,
    (minnesota_data['Male Child Poverty (Two or More Races)'] / minnesota_data['Sample Population (Two or More Races)']) *100,
    (minnesota_data['Male Child Poverty (White Alone, Not Hispanic or Latino)'] / minnesota_data['Sample Population (White Alone, Not Hispanic or Latino)']) *100,
    (minnesota_data['Male Child Poverty (Hispanic or Latino)'] / minnesota_data['Sample Population (Hispanic or Latino)']) *100,
    (minnesota_data['Senior Poverty'] / minnesota_data['Sample Population']) *100,
    (minnesota_data['Senior Poverty (White Alone)'] / minnesota_data['Sample Population (White Alone)']) *100,
    (minnesota_data['Senior Poverty (Black or African American Alone)'] / minnesota_data['Sample Population (Black or African American Alone)']) *100,
    (minnesota_data['Senior Poverty (American Indian and Alaska Native Alone)'] / minnesota_data['Sample Population (American Indian and Alaska Native Alone)']) *100,
    (minnesota_data['Senior Poverty (Asian Alone)'] / minnesota_data['Sample Population (Asian Alone)']) *100,
    (minnesota_data['Senior Poverty (Native Hawaiian and Other Pacific Islander Alone)'] / minnesota_data['Sample Population (Native Hawaiian and Other Pacific Islander Alone)']) *100,
    (minnesota_data['Senior Poverty (Some Other Race Alone)'] / minnesota_data['Sample Population (Some Other Race Alone)']) *100,
    (minnesota_data['Senior Poverty (Two or More Races)'] / minnesota_data['Sample Population (Two or More Races)']) *100,
    (minnesota_data['Senior Poverty (White Alone, Not Hispanic or Latino)'] / minnesota_data['Sample Population (White Alone, Not Hispanic or Latino)']) *100,
    (minnesota_data['Senior Poverty (Hispanic or Latino)'] / minnesota_data['Sample Population (Hispanic or Latino)']) *100,
    (minnesota_data['Female Senior Poverty'] / minnesota_data['Sample Population']) *100,
    (minnesota_data['Female Senior Poverty (White Alone)'] / minnesota_data['Sample Population (White Alone)']) *100,
    (minnesota_data['Female Senior Poverty (Black or African American Alone)'] / minnesota_data['Sample Population (Black or African American Alone)']) *100,
    (minnesota_data['Female Senior Poverty (American Indian and Alaska Native Alone)'] / minnesota_data['Sample Population (American Indian and Alaska Native Alone)']) *100,
    (minnesota_data['Female Senior Poverty (Asian Alone)'] / minnesota_data['Sample Population (Asian Alone)']) *100,
    (minnesota_data['Female Senior Poverty (Native Hawaiian and Other Pacific Islander Alone)'] / minnesota_data['Sample Population (Native Hawaiian and Other Pacific Islander Alone)']) *100,
    (minnesota_data['Female Senior Poverty (Some Other Race Alone)'] / minnesota_data['Sample Population (Some Other Race Alone)']) *100,
    (minnesota_data['Female Senior Poverty (Two or More Races)'] / minnesota_data['Sample Population (Two or More Races)']) *100,
    (minnesota_data['Female Senior Poverty (White Alone, Not Hispanic or Latino)'] / minnesota_data['Sample Population (White Alone, Not Hispanic or Latino)']) *100,
    (minnesota_data['Female Senior Poverty (Hispanic or Latino)'] / minnesota_data['Sample Population (Hispanic or Latino)']) *100,
    (minnesota_data['Male Senior Poverty'] / minnesota_data['Sample Population']) *100,
    (minnesota_data['Male Senior Poverty (White Alone)'] / minnesota_data['Sample Population (White Alone)']) *100,
    (minnesota_data['Male Senior Poverty (Black or African American Alone)'] / minnesota_data['Sample Population (Black or African American Alone)']) *100,
    (minnesota_data['Male Senior Poverty (American Indian and Alaska Native Alone)'] / minnesota_data['Sample Population (American Indian and Alaska Native Alone)']) *100,
    (minnesota_data['Male Senior Poverty (Asian Alone)'] / minnesota_data['Sample Population (Asian Alone)']) *100,
    (minnesota_data['Male Senior Poverty (Native Hawaiian and Other Pacific Islander Alone)'] / minnesota_data['Sample Population (Native Hawaiian and Other Pacific Islander Alone)']) *100,
    (minnesota_data['Male Senior Poverty (Some Other Race Alone)'] / minnesota_data['Sample Population (Some Other Race Alone)']) *100,
    (minnesota_data['Male Senior Poverty (Two or More Races)'] / minnesota_data['Sample Population (Two or More Races)']) *100,
    (minnesota_data['Male Senior Poverty (White Alone, Not Hispanic or Latino)'] / minnesota_data['Sample Population (White Alone, Not Hispanic or Latino)']) *100,
    (minnesota_data['Male Senior Poverty (Hispanic or Latino)'] / minnesota_data['Sample Population (Hispanic or Latino)']) *100
], axis=1, keys=columns_to_concat)

minnesota_data = pd.concat([minnesota_data, concatenated_data], axis=1)



print(minnesota_data.columns)


#Create a column for the counties using the county codes
county_mapping = {'001': 'Aitkin', '003': 'Anoka', '005': 'Becker', '007': 'Beltrami', '009': 'Benton',
                  '011': 'Big Stone', '013': 'Blue Earth', '015': 'Brown', '017': 'Carlton', '019': 'Carver',
                  '021': 'Cass', '023': 'Chippewa', '025': 'Chisago', '027': 'Clay', '029': 'Clearwater',
                  '031': 'Cook', '033': 'Cottonwood', '035': 'Crow Wing', '037': 'Dakota', '039': 'Dodge',
                  '041': 'Douglas', '043': 'Faribault', '045': 'Fillmore', '047': 'Freeborn', '049': 'Goodhue',
                  '051': 'Grant', '053': 'Hennepin', '055': 'Houston', '057': 'Hubbard', '059': 'Isanti',
                  '061': 'Itasca', '063': 'Jackson', '065': 'Kanabec', '067': 'Kandiyohi', '069': 'Kittson',
                  '071': 'Koochiching', '073': 'Lac qui Parle', '075': 'Lake', '077': 'Lake of the Woods', '079': 'Le Sueur',
                  '081': 'Lincoln', '083': 'Lyon', '085': 'McLeod', '087': 'Mahnomen', '089': 'Marshall',
                  '091': 'Martin', '093': 'Meeker', '095': 'Mille Lacs', '097': 'Morrison', '099': 'Mower',
                  '101': 'Murray', '103': 'Nicollet', '105': 'Nobles', '107': 'Norman', '109': 'Olmsted',
                  '111': 'Otter Tail', '113': 'Pennington', '115': 'Pine', '117': 'Pipestone', '119': 'Polk',
                  '121': 'Pope', '123': 'Ramsey', '125': 'Red Lake', '127': 'Redwood', '129': 'Renville',
                  '131': 'Rice', '133': 'Rock', '135': 'Roseau', '137': 'St. Louis', '139': 'Scott',
                  '141': 'Sherburne', '143': 'Sibley', '145': 'Stearns', '147': 'Steele', '149': 'Stevens',
                  '151': 'Swift', '153': 'Todd', '155': 'Traverse', '157': 'Wabasha', '159': 'Wadena',
                  '161': 'Waseca', '163': 'Washington', '165': 'Watonwan', '167': 'Wilkin', '169': 'Winona',
                  '171': 'Wright', '173': 'Yellow Medicine'
}

#Insert the dictionary of county_mapping into a new column for the county
print(minnesota_data.shape)
minnesota_data.insert(34, 'County', "")
print(minnesota_data.columns)

minnesota_data['County'] = minnesota_data['County Code'].map(county_mapping)

#Create a column for category of Rural or Urban Based on OMB Statistical Data. 
#These categories are from 2003. Newer categories for 2020 have not been finalized. 
county_type_omb = {'Aitkin': 'Rural', 'Anoka': 'Urban', 'Becker': 'Rural', 'Beltrami': 'Rural', 'Benton': 'Urban',
                  'Big Stone': 'Rural', 'Blue Earth': 'Rural', 'Brown': 'Rural', 'Carlton': 'Urban', 'Carver': 'Urban',
                  'Cass': 'Rural', 'Chippewa': 'Rural', 'Chisago': 'Urban', 'Clay': 'Urban', 'Clearwater': 'Rural',
                  'Cook': 'Rural', 'Cottonwood': 'Rural', 'Crow Wing': 'Rural', 'Dakota': 'Urban', 'Dodge': 'Urban',
                  'Douglas': 'Rural', 'Faribault': 'Rural', 'Fillmore': 'Rural', 'Freeborn': 'Rural', 'Goodhue': 'Rural',
                  'Grant': 'Rural', 'Hennepin': 'Urban', 'Houston': 'Urban', 'Hubbard': 'Rural', 'Isanti': 'Urban',
                  'Itasca': 'Rural', 'Jackson': 'Rural', 'Kanabec': 'Rural', 'Kandiyohi': 'Rural', 'Kittson': 'Rural',
                  'Koochiching': 'Rural', 'Lac qui Parle': 'Rural', 'Lake': 'Rural', 'Lake of the Woods': 'Rural', 'Le Sueur': 'Rural',
                  'Lincoln': 'Rural', 'Lyon': 'Rural', 'McLeod': 'Rural', 'Mahnomen': 'Rural', 'Marshall': 'Rural',
                  'Martin': 'Rural', 'Meeker': 'Rural', 'Mille Lacs': 'Rural', 'Morrison': 'Rural', 'Mower': 'Rural',
                  'Murray': 'Rural', 'Nicollet': 'Rural', 'Nobles': 'Rural', 'Norman': 'Rural', 'Olmsted': 'Urban',
                  'Otter Tail': 'Rural', 'Pennington': 'Rural', 'Pine': 'Rural', 'Pipestone': 'Rural', 'Polk': 'Urban',
                  'Pope': 'Rural', 'Ramsey': 'Urban', 'Red Lake': 'Rural', 'Redwood': 'Rural', 'Renville': 'Rural',
                  'Rice': 'Rural', 'Rock': 'Rural', 'Roseau': 'Rural', 'St. Louis': 'Urban', 'Scott': 'Urban',
                  'Sherburne': 'Urban', 'Sibley': 'Rural', 'Stearns': 'Urban', 'Steele': 'Rural', 'Stevens': 'Rural',
                  'Swift': 'Rural', 'Todd': 'Rural', 'Traverse': 'Rural', 'Wabasha': 'Urban', 'Wadena': 'Rural',
                  'Waseca': 'Rural', 'Washington': 'Urban', 'Watonwan': 'Rural', 'Wilkin': 'Rural', 'Winona': 'Rural',
                  'Wright': 'Urban', 'Yellow Medicine' : 'Rural'
}

minnesota_data.insert(34, 'OMB County Type', "")

minnesota_data['OMB County Type'] = minnesota_data['County'].map(county_type_omb)
minnesota_data.head()






#Fixing Column Names
minnesota_data = minnesota_data.rename(columns={'year':'Year'})
minnesota_data = minnesota_data.rename(columns={'state':'State'})

#Look for missing values
nan_count = minnesota_data.isna().sum()
nan_columns = nan_count[nan_count > 0]
print(f'Missing Columns: {nan_columns}')
print('------------------')
print('')

#Find Data Types
data_types = minnesota_data.dtypes
print(f'Data Types:')
print('------------------')

print(data_types)


#Looking at the DF
print(f'DF Shape: {minnesota_data.shape}')
print('-------------')
print('Columns:')
minnesota_data.columns





# Output for further analysis

# Specify the file path where you want to save the CSV file
csv_file_path = 'Resources/minnesota_poverty_data.csv'

# Output the DataFrame to a CSV file
minnesota_data.to_csv(csv_file_path, index=False)

# Display a message indicating success
print(f"DataFrame has been successfully saved to {csv_file_path}")


#Output columns to text file for easy reference later
columns_file_path = "Resources/poverty_columns.csv"
columns_df = pd.DataFrame({'Column Headers': minnesota_data.columns})

columns_df.to_csv(columns_file_path, index=False)





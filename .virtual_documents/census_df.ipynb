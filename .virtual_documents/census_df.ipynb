import pandas as pd
import requests
from pprint import pprint
from census import Census
from api import census_key



hen20 = requests.get('https://api.census.gov/data/2020/acs/acs5?get=NAME,B17001_002E,B17001_003E,B17001_017E&for=county:053&in=state:27').json()
hen20


# years = ['2005', '2006', '2007', '2008', '2009', '2010', '2011', '2012', '2013', '2014', '2015', '2016', '2017', '2018', '2019', '2020', '2021', '2022']
county_list = []
for i in range(1, 174):
    # Skip even numbers
    if i % 2 == 0:
        continue
    
    # Use zfill to ensure two-digit numbers with leading zeros
    variable_code = str(i).zfill(3)
    county_list.append(variable_code)





# county_by_year = []
# for county in county_list:
    for year in range (2005, 2023):
        query_url = f'https://api.census.gov/data/{year}acs/acs5?get=NAME,B17001_002E,B17001_003E,B17001_017E&for=county:{county}&in=state:27'
        annual_data = requests.get(query_url).json()
        county_by_year.append(annual_data)
   


census_key = "bdbb897841c0476a7a038a0fa0b702325278b10d"
c = Census(census_key, year=2019)
state_county_data = c.acs5.get(
    ("B17001_001E",
     "B17001_002E",
     "B17001_017E",),
    {'for': 'county:*'},
    #{'NAME': 'geography'},  # Add this line to include the county name in the response
    #{'in': 'state:*'}
)

# Convert to DataFrame
poverty_data = pd.DataFrame(state_county_data)
poverty_data


minnesota_data_raw = poverty_data[poverty_data['state'] == '27']


minnesota_data = minnesota_data_raw.rename(columns={
                      "B17001_001E" : "Population",
                      "B17001_002E" : "Poverty",
                      "B17001_017E" : 'Child Poverty'
                      })
minnesota_data


# Specify the file path where you want to save the CSV file
csv_file_path = 'minnesota_data.csv'

# Output the DataFrame to a CSV file
minnesota_data.to_csv(csv_file_path, index=False)

# Display a message indicating success
print(f"DataFrame has been successfully saved to {csv_file_path}")

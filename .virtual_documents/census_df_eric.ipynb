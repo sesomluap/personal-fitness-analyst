import pandas as pd
import requests
from pprint import pprint
from census import Census
from api import geoapify_key, weather_api_key, census_key
from api2 import c2
#print(c2)






years = [2010, 2011, 2012, 2013, 2014, 2015, 2016, 2017, 2018, 2019, 2020, 2021]
poverty_data = []

#census api definitions: https://api.census.gov/data/2017/acs/acs5/groups/B17001.html
#B17001_001E = Sample population
#B17001_002E = Income in the past 12 months below poverty level
    #B17001_017E = Income in the past 12 months below poverty level!!Female
        #B17001_018E = Income in the past 12 months below poverty level!!Female!!Under 5 years
        #B17001_019E = Income in the past 12 months below poverty level!!Female!!5 years
        #B17001_020E = Income in the past 12 months below poverty level!!Female!!6 to 11 years
        #B17001_021E = Income in the past 12 months below poverty level!!Female!!12 to 14 years
        #B17001_022E = Income in the past 12 months below poverty level!!Female!!15 years
        #B17001_023E = Income in the past 12 months below poverty level!!Female!!16 and 17 years
        #B17001_024E = Income in the past 12 months below poverty level!!Female!!18 to 24 years
        #B17001_025E = Income in the past 12 months below poverty level!!Female!!25 to 34 years
        #B17001_026E = Income in the past 12 months below poverty level!!Female!!35 to 44 years
        #B17001_027E = Income in the past 12 months below poverty level!!Female!!45 to 54 years
        #B17001_028E = Income in the past 12 months below poverty level!!Female!!55 to 64 years
        #B17001_029E = Income in the past 12 months below poverty level!!Female!!65 to 74 years
        #B17001_030E = Income in the past 12 months below poverty level!!Female!!75 years and over
    #B17001_003E = Income in the past 12 months below poverty level!!Male
        #B17001_004E = Income in the past 12 months below poverty level!!Male!!Under 5 years
        #B17001_005E = Income in the past 12 months below poverty level!!Male!!5 years
        #B17001_006E = Income in the past 12 months below poverty level!!Male!!6 to 11 years
        #B17001_007E = Income in the past 12 months below poverty level!!Male!!12 to 14 years
        #B17001_008E = Income in the past 12 months below poverty level!!Male!!15 years
        #B17001_009E = Income in the past 12 months below poverty level!!Male!!16 and 17 years
        #B17001_010E = Income in the past 12 months below poverty level!!Male!!18 to 24 years
        #B17001_011E = Income in the past 12 months below poverty level!!Male!!25 to 34 years
        #B17001_012E = Income in the past 12 months below poverty level!!Male!!35 to 44 years
        #B17001_013E = Income in the past 12 months below poverty level!!Male!!45 to 54 years
        #B17001_014E = Income in the past 12 months below poverty level!!Male!!55 to 64 years
        #B17001_015E = Income in the past 12 months below poverty level!!Male!!65 to 74 years
        #B17001_016E = Income in the past 12 months below poverty level!!Male!!75 years and over
for year in years:
    c = Census(census_key, year)
    state_county_data = c.acs5.get(
        ("B17001_001E",
         "B17001_002E",
         "B17001_017E",
         "B17001_018E",
         "B17001_019E",
         "B17001_020E",
         "B17001_021E",
         "B17001_022E",
         "B17001_023E",
         "B17001_024E",
         "B17001_025E",
         "B17001_026E",
         "B17001_027E",
         "B17001_028E",
         "B17001_029E",
         "B17001_030E",
         "B17001_003E",
         "B17001_004E",
         "B17001_005E",
         "B17001_006E",
         "B17001_007E",
         "B17001_008E",
         "B17001_009E",
         "B17001_010E",
         "B17001_011E",
         "B17001_012E",
         "B17001_013E",
         "B17001_014E",
         "B17001_015E",
         "B17001_016E",
         "B01003_001E"),
        {'for': 'county:*'},
    )

    print(f"Fetching Data for {year}")

    # Convert to DataFrame
    df = pd.DataFrame(state_county_data)
    df['year'] = year
    poverty_data.append(df)

# Concatenate the list of DataFrames into a single DataFrame
merged_df = pd.concat(poverty_data, ignore_index=True)

# Print the merged DataFrame
print(merged_df)



merged_df.head()


minnesota_data_raw = merged_df.loc[merged_df['state'] == '27']



minnesota_data = minnesota_data_raw.rename(columns={
                      "B17001_001E" : "Sample Population",
                      "B17001_002E" : "Population Poverty",
                      "B17001_017E" : "Females Poverty",
                      "B17001_018E" : "Females < 5 Poverty",
                      "B17001_019E" : "Females 5 Poverty",
                      "B17001_020E" : "Females 6 to 11 Poverty",
                      "B17001_021E" : "Females 12 to 14 Poverty",
                      "B17001_022E" : "Females 15 Poverty",
                      "B17001_023E" : "Females 16 to 17 Poverty",
                      "B17001_024E" : "Females 18 to 24 Poverty",
                      "B17001_025E" : "Females 25 to 34 Poverty",
                      "B17001_026E" : "Females 35 to 44 Poverty",
                      "B17001_027E" : "Females 45 to 54 Poverty",
                      "B17001_028E" : "Females 55 to 64 Poverty",
                      "B17001_029E" : "Females 65 to 74 Poverty",
                      "B17001_030E" : "Females 75 > Poverty",
                      "B17001_003E" : "Males Poverty",
                      "B17001_004E" : "Males < 5 Poverty",
                      "B17001_005E" : "Males 5 Poverty",
                      "B17001_006E" : "Males 6 to 11 Poverty",
                      "B17001_007E" : "Males 12 to 14 Poverty",
                      "B17001_008E" : "Males 15 Poverty",
                      "B17001_009E" : "Males 16 to 17 Poverty",
                      "B17001_010E" : "Males 18 to 24 Poverty",
                      "B17001_011E" : "Males 25 to 34 Poverty",
                      "B17001_012E" : "Males 35 to 44 Poverty",
                      "B17001_013E" : "Males 45 to 54 Poverty",
                      "B17001_014E" : "Males 55 to 64 Poverty",
                      "B17001_015E" : "Males 65 to 74 Poverty",
                      "B17001_016E" : "Males 75 > Poverty",
                      "B01003_012E" : "Total Population", 
                      "state" : "state code",
                      "county" : "county code"
                      })
#Create a column for the state
minnesota_data.insert(32, 'state', 'MN')

#Create a column for the counties using the county codes
    # 27001        Aitkin County
    # 27003        Anoka County
    # 27005        Becker County
    # 27007        Beltrami County
    # 27009        Benton County
    # 27011        Big Stone County
    # 27013        Blue Earth County
    # 27015        Brown County
    # 27017        Carlton County
    # 27019        Carver County
    # 27021        Cass County
    # 27023        Chippewa County
    # 27025        Chisago County
    # 27027        Clay County
    # 27029        Clearwater County
    # 27031        Cook County
    # 27033        Cottonwood County
    # 27035        Crow Wing County
    # 27037        Dakota County
    # 27039        Dodge County
    # 27041        Douglas County
    # 27043        Faribault County
    # 27045        Fillmore County
    # 27047        Freeborn County
    # 27049        Goodhue County
    # 27051        Grant County
    # 27053        Hennepin County
    # 27055        Houston County
    # 27057        Hubbard County
    # 27059        Isanti County
    # 27061        Itasca County
    # 27063        Jackson County
    # 27065        Kanabec County
    # 27067        Kandiyohi County
    # 27069        Kittson County
    # 27071        Koochiching County
    # 27073        Lac qui Parle County
    # 27075        Lake County
    # 27077        Lake of the Woods County
    # 27079        Le Sueur County
    # 27081        Lincoln County
    # 27083        Lyon County
    # 27085        McLeod County
    # 27087        Mahnomen County
    # 27089        Marshall County
    # 27091        Martin County
    # 27093        Meeker County
    # 27095        Mille Lacs County
    # 27097        Morrison County
    # 27099        Mower County
    # 27101        Murray County
    # 27103        Nicollet County
    # 27105        Nobles County
    # 27107        Norman County
    # 27109        Olmsted County
    # 27111        Otter Tail County
    # 27113        Pennington County
    # 27115        Pine County
    # 27117        Pipestone County
    # 27119        Polk County
    # 27121        Pope County
    # 27123        Ramsey County
    # 27125        Red Lake County
    # 27127        Redwood County
    # 27129        Renville County
    # 27131        Rice County
    # 27133        Rock County
    # 27135        Roseau County
    # 27137        St. Louis County
    # 27139        Scott County
    # 27141        Sherburne County
    # 27143        Sibley County
    # 27145        Stearns County
    # 27147        Steele County
    # 27149        Stevens County
    # 27151        Swift County
    # 27153        Todd County
    # 27155        Traverse County
    # 27157        Wabasha County
    # 27159        Wadena County
    # 27161        Waseca County
    # 27163        Washington County
    # 27165        Watonwan County
    # 27167        Wilkin County
    # 27169        Winona County
    # 27171        Wright County
    # 27173        Yellow Medicine County
# county_mapping = {'001': 'Aitkin', '003': 'Anoka', '005': 'Becker', '007': 'Beltrami', 
# }
# minnesota_data['county_name'] = minnesota_data['county_code'].map(county_mapping)


# print(minnesota_data.shape)
# minnesota_data['county code'].dtype
minnesota_data.head(2)


#need to determine per county poverty percentage for each year

minnesota_data['Poverty %'] = (minnesota_data['Population Poverty'] / minnesota_data['Sample Population']) *100
minnesota_data['Poverty %']



#filtering 
minnesota_data.groupby("year")["Poverty %"].describe()


minnesota_data.head()


# Specify the file path where you want to save the CSV file
csv_file_path = 'minnesota_poverty_data2.csv'

# Output the DataFrame to a CSV file
minnesota_data.to_csv(csv_file_path, index=False)

# Display a message indicating success
print(f"DataFrame has been successfully saved to {csv_file_path}")




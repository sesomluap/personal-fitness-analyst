


# Dependencies and Setup
import pandas as pd
from pathlib import Path
import requests
from pprint import pprint
from census import Census
import matplotlib.pyplot as plt
import numpy as np
from scipy.stats import linregress
from requests.structures import CaseInsensitiveDict
import datetime
from scipy import stats


# File to Load (Remember to Change These)
poverty_path = Path("Resources/minnesota_poverty_data.csv")
lead_path = Path("Resources/lead_by_blood_levels.csv")

poverty_df = pd.read_csv(poverty_path)
lead_df = pd.read_csv(lead_path)
poverty_df.head()





county_count = len(poverty_df["County"].unique())
print(f'There are {county_count} counties.')


# summary stats for population

byYear_andCounty_df = poverty_df.groupby(['Year', 'County'])

print('Population Stats by Year and County:')
print('____________________________________________')
summary_stats_population = byYear_andCounty_df['Sample Population'].describe()
summary_stats_population


# Summing up the counties for each year
print('Population Stats by Year and State:')
print('____________________________________________')
state_population = summary_stats_population.groupby('Year').sum()
state_population



state_population['mean'].plot(kind='line', marker='o', title='Mean Population Over Time')

plt.ylabel('Mean Population')  # Label for the y-axis
plt.yticks(rotation=45)       # Rotate y-axis labels for better readability
plt.ticklabel_format(style='plain', axis='y')  # Disable scientific notation on the y-axis labels

# Show the plot
plt.show()


most_recent_year = poverty_df['Year'].max()
most_recent_data = poverty_df[poverty_df['Year'] == most_recent_year]
most_populated_counties = most_recent_data.nlargest(10, 'Sample Population')
least_populated_counties = most_recent_data.nsmallest(10, 'Sample Population')


print(f'As of {most_recent_year} the most populated counties are: ')
most_populated_counties['County']


print(f'As of {most_recent_year} the least populated counties are: ')
least_populated_counties['County']


df_year_sorted = poverty_df.sort_values(by='Year')

initial_population = df_year_sorted.groupby('County')['Sample Population'].first()
final_population = df_year_sorted.groupby('County')['Sample Population'].last()
population_growth = (final_population - initial_population) / initial_population * 100
most_growth_counties = population_growth.nlargest(10)
least_growth_counties = population_growth.nsmallest(10)


print(f'The counties with the most growth are: ')
most_growth_counties


print(f'The counties with the least growth are: ')
least_growth_counties


# summary stats for Poverty

byYear_andCounty_df = poverty_df.groupby(['Year', 'County'])

print('Poverty Percentage Stats by Year and County:')
print('____________________________________________')
summary_stats_poverty = byYear_andCounty_df['Poverty %'].describe()
summary_stats_poverty


# Summing up the counties for each year
print('Poverty Percentage Stats by Year and State:')
print('____________________________________________')
state_poverty = summary_stats_poverty.groupby('Year').sum()
state_poverty


state_poverty['mean'].plot(kind='line', marker='o', title='Mean Poverty Over Time')

plt.ylabel('Mean Poverty')  # Label for the y-axis
plt.yticks(rotation=45)       # Rotate y-axis labels for better readability
plt.ticklabel_format(style='plain', axis='y')  # Disable scientific notation on the y-axis labels

# Show the plot
plt.show()





lead_df.head()


# Find the common years
common_years = set(poverty_df['Year']).intersection(lead_df['year'])

# Filter both DataFrames to include only the common years
filtered_poverty_df = poverty_df[poverty_df['Year'].isin(common_years)]
filtered_lead_df = lead_df[lead_df['year'].isin(common_years)]

# Perform the merge on the filtered DataFrames
poverty_lead_df = pd.merge(filtered_poverty_df, filtered_lead_df, left_on=['County', 'Year'], right_on=['location', 'year'], how='inner')

poverty_lead_df = poverty_lead_df[poverty_lead_df['unstable'] != True]

# Now you have a DataFrame with data for the common years
poverty_lead_df.head()



print(poverty_lead_df['pctEbll'].dtype)
poverty_lead_df['pctEbll'] = poverty_lead_df['pctEbll'].fillna(0)
poverty_lead_df['pctEbll'] = pd.to_numeric(poverty_lead_df['pctEbll'], errors='coerce').fillna(0)

# Sort the DataFrame by 'pctEbll' in descending order
poverty_lead_df = poverty_lead_df.sort_values(by='pctEbll', ascending=False)

# Display the top N counties with the highest 'pctEbll'
top_elevated_lead_counties = poverty_lead_df.head(10)

print(top_elevated_lead_counties[['County', 'pctEbll', 'Year']])





gender_df = poverty_df[['Year','County','Female Poverty %','Male Poverty %']]
gender_df = gender_df.groupby('Year')
gender_df.head()


female_poverty_mean = gender_df['Female Poverty %'].mean()
male_poverty_mean = gender_df['Male Poverty %'].mean()

print('Average Female Poverty Rates per County')
print('___________________________________________')
print(female_poverty_mean)
print('')

print('Average Male Poverty Rates per County')
print('___________________________________________')
print(male_poverty_mean)


female_poverty_mean_noIndex = gender_df['Female Poverty %'].mean().reset_index(drop=True)
male_poverty_mean_noIndex = gender_df['Male Poverty %'].mean().reset_index(drop=True)
years = gender_df['Year'].unique()


# Create a line plot
plt.plot(years, female_poverty_mean_noIndex, label='Female')
plt.plot(years, male_poverty_mean_noIndex, label='Male')

# Add labels and title
plt.xlabel('Year')
plt.ylabel('Poverty Percentage')
plt.title('Poverty and Gender % per County')

# Add a legend
plt.legend()

# Show the plot
plt.show()




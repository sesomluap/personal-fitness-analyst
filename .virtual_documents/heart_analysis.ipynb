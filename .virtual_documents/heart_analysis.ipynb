


# Dependencies and Setup
import pandas as pd
from pathlib import Path
import requests
from pprint import pprint
from census import Census
import matplotlib.pyplot as plt
import numpy as np
from scipy.stats import linregress
from requests.structures import CaseInsensitiveDict
import datetime
from scipy import stats


# File to Load (Remember to Change These)
path_poverty = Path("Resources/minnesota_poverty_data.csv")
path_heart = Path("Resources/heart_attack_hospitalizations_by_county.csv")

poverty_df = pd.read_csv(path_poverty)
heart_df = pd.read_csv(path_heart)
print(poverty_df['Year'])


# need to fill blanks in heart_df with 0's
heart_df.fillna(0, inplace=True)



#Need to make a list of unique years
unique_years_list = heart_df['year'].unique().tolist()
print(f'The years are {unique_years}')



# Need to break out the years in the heart data so we have individual years
heart_df[['Start_Year', 'End_Year']] = heart_df['year'].str.split('-', expand=True)
heart_df['Start_Year']




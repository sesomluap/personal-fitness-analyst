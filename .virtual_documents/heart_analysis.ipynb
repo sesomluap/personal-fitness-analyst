


# Dependencies and Setup
import pandas as pd
from pathlib import Path
import requests
from pprint import pprint
from census import Census
import matplotlib.pyplot as plt
import numpy as np
from scipy.stats import linregress
from requests.structures import CaseInsensitiveDict
import datetime
from scipy import stats


# File to Load (Remember to Change These)
path_poverty = Path("Resources/minnesota_poverty_data.csv")
path_heart = Path("Resources/heart_attack_hospitalizations_by_county.csv")

poverty_df = pd.read_csv(path_poverty)
heart_df = pd.read_csv(path_heart)
print(poverty_df['Year'])


# need to fill blanks in heart_df with 0's
heart_df.fillna(0, inplace=True)



#Need to make a list of unique years
unique_years_list = heart_df['year'].unique().tolist()
print(f'The years are {unique_years}')



# Need to break out the years in the heart data so we have individual years
heart_df[['Start_Year', 'End_Year']] = heart_df['year'].str.split('-', expand=True)
heart_df['Start_Year']

heart_df['Start_Year'] = heart_df['Start_Year'].astype(float).fillna(0).astype(int)
heart_df['End_Year'] = heart_df['End_Year'].astype(float).fillna(0).astype(int)

print(heart_df['Start_Year'])


# Initialize an empty DataFrame for the expanded years
expanded_years_df = pd.DataFrame(columns=['County', 'Year', 'Heart_Attacks'])

# Iterate over rows and append to the new DataFrame
for index, row in heart_df.iterrows():
    years = list(range(row['Start_Year'], row['End_Year'] + 1))
    for year in years:
        expanded_years_df = pd.concat([expanded_years_df, pd.DataFrame({'County': [row['county']], 'Year': [year], 'Heart_Attacks': [row['count']]})], ignore_index=True)

# Calculate heart attacks per year
expanded_years_df['Heart_Attacks_Per_Year'] = expanded_years_df['Heart_Attacks']

# Drop unnecessary columns
expanded_years_df.drop(['Start_Year', 'End_Year'], axis=1, inplace=True)

# Reorder columns if necessary
expanded_years_df = expanded_years_df[['County', 'Year', 'Heart_Attacks_Per_Year', 'Heart_Attacks']]

# Display the resulting DataFrame
print(expanded_years_df)




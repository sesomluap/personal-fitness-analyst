{
 "cells": [
  {
   "cell_type": "markdown",
   "id": "169a6bb5-c670-4e34-9938-e3a1ada59cbd",
   "metadata": {
    "slideshow": {
     "slide_type": "slide"
    },
    "tags": []
   },
   "source": [
    "# Heart Attack and Poverty Analysis"
   ]
  },
  {
   "cell_type": "code",
   "execution_count": 19,
   "id": "72e2a691-c3e4-468e-b443-a6657133b9ff",
   "metadata": {
    "slideshow": {
     "slide_type": "slide"
    },
    "tags": []
   },
   "outputs": [
    {
     "name": "stdout",
     "output_type": "stream",
     "text": [
      "0       2010\n",
      "1       2010\n",
      "2       2010\n",
      "3       2010\n",
      "4       2010\n",
      "        ... \n",
      "1039    2021\n",
      "1040    2021\n",
      "1041    2021\n",
      "1042    2021\n",
      "1043    2021\n",
      "Name: Year, Length: 1044, dtype: int64\n"
     ]
    }
   ],
   "source": [
    "# Dependencies and Setup\n",
    "import pandas as pd\n",
    "from pathlib import Path\n",
    "import requests\n",
    "from pprint import pprint\n",
    "from census import Census\n",
    "import matplotlib.pyplot as plt\n",
    "import numpy as np\n",
    "from scipy.stats import linregress\n",
    "from requests.structures import CaseInsensitiveDict\n",
    "import datetime\n",
    "from scipy import stats\n",
    "\n",
    "\n",
    "# File to Load (Remember to Change These)\n",
    "path_poverty = Path(\"Resources/minnesota_poverty_data.csv\")\n",
    "path_heart = Path(\"Resources/heart_attack_hospitalizations_by_county.csv\")\n",
    "\n",
    "poverty_df = pd.read_csv(path_poverty)\n",
    "heart_df = pd.read_csv(path_heart)\n",
    "print(poverty_df['Year'])"
   ]
  },
  {
   "cell_type": "code",
   "execution_count": 21,
   "id": "fd26890f-fae7-46e0-9bcb-dba6bf993b5a",
   "metadata": {},
   "outputs": [],
   "source": [
    "# need to fill blanks in heart_df with 0's\n",
    "heart_df.fillna(0, inplace=True)\n"
   ]
  },
  {
   "cell_type": "code",
   "execution_count": 25,
   "id": "93fd2ef1-7c51-4d3e-9328-ad0a130e1c65",
   "metadata": {},
   "outputs": [
    {
     "name": "stdout",
     "output_type": "stream",
     "text": [
      "The years are ['2008-2010' '2011-2013' '2013-2015' '2015-2017' '2016-2018' '2017-2019'\n",
      " '2018-2020' '2020']\n"
     ]
    }
   ],
   "source": [
    "#Need to make a list of unique years\n",
    "unique_years_list = heart_df['year'].unique().tolist()\n",
    "print(f'The years are {unique_years}')\n"
   ]
  },
  {
   "cell_type": "code",
   "execution_count": 26,
   "id": "b80f02c2-e206-4464-9019-3d6b57fb49c2",
   "metadata": {},
   "outputs": [
    {
     "data": {
      "text/plain": [
       "0      2008\n",
       "1      2011\n",
       "2      2013\n",
       "3      2015\n",
       "4      2016\n",
       "       ... \n",
       "698    2015\n",
       "699    2016\n",
       "700    2017\n",
       "701    2018\n",
       "702    2020\n",
       "Name: Start_Year, Length: 703, dtype: object"
      ]
     },
     "execution_count": 26,
     "metadata": {},
     "output_type": "execute_result"
    }
   ],
   "source": [
    "# Need to break out the years in the heart data so we have individual years\n",
    "heart_df[['Start_Year', 'End_Year']] = heart_df['year'].str.split('-', expand=True)\n",
    "heart_df['Start_Year']"
   ]
  },
  {
   "cell_type": "code",
   "execution_count": null,
   "id": "5e0f5fc5-d800-4b4e-97d2-eb8050439c30",
   "metadata": {},
   "outputs": [],
   "source": []
  }
 ],
 "metadata": {
  "kernelspec": {
   "display_name": "Python 3 (ipykernel)",
   "language": "python",
   "name": "python3"
  },
  "language_info": {
   "codemirror_mode": {
    "name": "ipython",
    "version": 3
   },
   "file_extension": ".py",
   "mimetype": "text/x-python",
   "name": "python",
   "nbconvert_exporter": "python",
   "pygments_lexer": "ipython3",
   "version": "3.10.12"
  }
 },
 "nbformat": 4,
 "nbformat_minor": 5
}
